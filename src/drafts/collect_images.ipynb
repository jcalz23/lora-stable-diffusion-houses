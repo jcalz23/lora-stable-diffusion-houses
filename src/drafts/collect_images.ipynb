{
 "cells": [
  {
   "cell_type": "code",
   "execution_count": 1,
   "metadata": {},
   "outputs": [
    {
     "name": "stderr",
     "output_type": "stream",
     "text": [
      " 49%|████▊     | 437/900 [04:07<04:46,  1.61it/s]"
     ]
    },
    {
     "name": "stdout",
     "output_type": "stream",
     "text": [
      "Failed to download image: 536_frontal.jpg. Status code: 404\n"
     ]
    },
    {
     "name": "stderr",
     "output_type": "stream",
     "text": [
      " 49%|████▊     | 438/900 [04:07<04:25,  1.74it/s]"
     ]
    },
    {
     "name": "stdout",
     "output_type": "stream",
     "text": [
      "Failed to download image: 537_frontal.jpg. Status code: 404\n"
     ]
    },
    {
     "name": "stderr",
     "output_type": "stream",
     "text": [
      " 49%|████▉     | 439/900 [04:07<03:59,  1.92it/s]"
     ]
    },
    {
     "name": "stdout",
     "output_type": "stream",
     "text": [
      "Failed to download image: 538_frontal.jpg. Status code: 404\n"
     ]
    },
    {
     "name": "stderr",
     "output_type": "stream",
     "text": [
      " 49%|████▉     | 440/900 [04:08<03:41,  2.08it/s]"
     ]
    },
    {
     "name": "stdout",
     "output_type": "stream",
     "text": [
      "Failed to download image: 539_frontal.jpg. Status code: 404\n"
     ]
    },
    {
     "name": "stderr",
     "output_type": "stream",
     "text": [
      " 49%|████▉     | 441/900 [04:08<03:31,  2.18it/s]"
     ]
    },
    {
     "name": "stdout",
     "output_type": "stream",
     "text": [
      "Failed to download image: 540_frontal.jpg. Status code: 404\n"
     ]
    },
    {
     "name": "stderr",
     "output_type": "stream",
     "text": [
      " 49%|████▉     | 442/900 [04:09<04:01,  1.90it/s]"
     ]
    },
    {
     "name": "stdout",
     "output_type": "stream",
     "text": [
      "Failed to download image: 541_frontal.jpg. Status code: 404\n"
     ]
    },
    {
     "name": "stderr",
     "output_type": "stream",
     "text": [
      " 49%|████▉     | 443/900 [04:10<04:17,  1.77it/s]"
     ]
    },
    {
     "name": "stdout",
     "output_type": "stream",
     "text": [
      "Failed to download image: 542_frontal.jpg. Status code: 404\n"
     ]
    },
    {
     "name": "stderr",
     "output_type": "stream",
     "text": [
      " 49%|████▉     | 444/900 [04:10<03:55,  1.94it/s]"
     ]
    },
    {
     "name": "stdout",
     "output_type": "stream",
     "text": [
      "Failed to download image: 543_frontal.jpg. Status code: 404\n"
     ]
    },
    {
     "name": "stderr",
     "output_type": "stream",
     "text": [
      " 49%|████▉     | 445/900 [04:10<03:36,  2.10it/s]"
     ]
    },
    {
     "name": "stdout",
     "output_type": "stream",
     "text": [
      "Failed to download image: 544_frontal.jpg. Status code: 404\n"
     ]
    },
    {
     "name": "stderr",
     "output_type": "stream",
     "text": [
      " 50%|████▉     | 446/900 [04:11<03:22,  2.24it/s]"
     ]
    },
    {
     "name": "stdout",
     "output_type": "stream",
     "text": [
      "Failed to download image: 545_frontal.jpg. Status code: 404\n"
     ]
    },
    {
     "name": "stderr",
     "output_type": "stream",
     "text": [
      " 50%|████▉     | 447/900 [04:11<03:31,  2.14it/s]"
     ]
    },
    {
     "name": "stdout",
     "output_type": "stream",
     "text": [
      "Failed to download image: 546_frontal.jpg. Status code: 404\n"
     ]
    },
    {
     "name": "stderr",
     "output_type": "stream",
     "text": [
      " 50%|████▉     | 448/900 [04:12<03:30,  2.14it/s]"
     ]
    },
    {
     "name": "stdout",
     "output_type": "stream",
     "text": [
      "Failed to download image: 547_frontal.jpg. Status code: 404\n"
     ]
    },
    {
     "name": "stderr",
     "output_type": "stream",
     "text": [
      " 50%|████▉     | 449/900 [04:12<03:24,  2.21it/s]"
     ]
    },
    {
     "name": "stdout",
     "output_type": "stream",
     "text": [
      "Failed to download image: 548_frontal.jpg. Status code: 404\n"
     ]
    },
    {
     "name": "stderr",
     "output_type": "stream",
     "text": [
      " 50%|█████     | 450/900 [04:13<03:21,  2.23it/s]"
     ]
    },
    {
     "name": "stdout",
     "output_type": "stream",
     "text": [
      "Failed to download image: 549_frontal.jpg. Status code: 404\n"
     ]
    },
    {
     "name": "stderr",
     "output_type": "stream",
     "text": [
      " 50%|█████     | 451/900 [04:13<03:22,  2.22it/s]"
     ]
    },
    {
     "name": "stdout",
     "output_type": "stream",
     "text": [
      "Failed to download image: 550_frontal.jpg. Status code: 404\n"
     ]
    },
    {
     "name": "stderr",
     "output_type": "stream",
     "text": [
      " 50%|█████     | 452/900 [04:14<03:22,  2.21it/s]"
     ]
    },
    {
     "name": "stdout",
     "output_type": "stream",
     "text": [
      "Failed to download image: 551_frontal.jpg. Status code: 404\n"
     ]
    },
    {
     "name": "stderr",
     "output_type": "stream",
     "text": [
      " 50%|█████     | 453/900 [04:14<03:52,  1.92it/s]"
     ]
    },
    {
     "name": "stdout",
     "output_type": "stream",
     "text": [
      "Failed to download image: 552_frontal.jpg. Status code: 404\n"
     ]
    },
    {
     "name": "stderr",
     "output_type": "stream",
     "text": [
      " 50%|█████     | 454/900 [04:15<04:15,  1.75it/s]"
     ]
    },
    {
     "name": "stdout",
     "output_type": "stream",
     "text": [
      "Failed to download image: 553_frontal.jpg. Status code: 404\n"
     ]
    },
    {
     "name": "stderr",
     "output_type": "stream",
     "text": [
      " 51%|█████     | 455/900 [04:15<03:54,  1.90it/s]"
     ]
    },
    {
     "name": "stdout",
     "output_type": "stream",
     "text": [
      "Failed to download image: 554_frontal.jpg. Status code: 404\n"
     ]
    },
    {
     "name": "stderr",
     "output_type": "stream",
     "text": [
      " 51%|█████     | 456/900 [04:16<04:08,  1.79it/s]"
     ]
    },
    {
     "name": "stdout",
     "output_type": "stream",
     "text": [
      "Failed to download image: 555_frontal.jpg. Status code: 404\n"
     ]
    },
    {
     "name": "stderr",
     "output_type": "stream",
     "text": [
      " 51%|█████     | 457/900 [04:17<04:14,  1.74it/s]"
     ]
    },
    {
     "name": "stdout",
     "output_type": "stream",
     "text": [
      "Failed to download image: 556_frontal.jpg. Status code: 404\n"
     ]
    },
    {
     "name": "stderr",
     "output_type": "stream",
     "text": [
      " 51%|█████     | 458/900 [04:17<03:52,  1.90it/s]"
     ]
    },
    {
     "name": "stdout",
     "output_type": "stream",
     "text": [
      "Failed to download image: 557_frontal.jpg. Status code: 404\n"
     ]
    },
    {
     "name": "stderr",
     "output_type": "stream",
     "text": [
      " 51%|█████     | 459/900 [04:18<04:09,  1.77it/s]"
     ]
    },
    {
     "name": "stdout",
     "output_type": "stream",
     "text": [
      "Failed to download image: 558_frontal.jpg. Status code: 404\n"
     ]
    },
    {
     "name": "stderr",
     "output_type": "stream",
     "text": [
      " 51%|█████     | 460/900 [04:18<03:50,  1.91it/s]"
     ]
    },
    {
     "name": "stdout",
     "output_type": "stream",
     "text": [
      "Failed to download image: 559_frontal.jpg. Status code: 404\n"
     ]
    },
    {
     "name": "stderr",
     "output_type": "stream",
     "text": [
      " 51%|█████     | 461/900 [04:19<04:01,  1.82it/s]"
     ]
    },
    {
     "name": "stdout",
     "output_type": "stream",
     "text": [
      "Failed to download image: 560_frontal.jpg. Status code: 404\n"
     ]
    },
    {
     "name": "stderr",
     "output_type": "stream",
     "text": [
      " 51%|█████▏    | 462/900 [04:19<04:12,  1.74it/s]"
     ]
    },
    {
     "name": "stdout",
     "output_type": "stream",
     "text": [
      "Failed to download image: 561_frontal.jpg. Status code: 404\n"
     ]
    },
    {
     "name": "stderr",
     "output_type": "stream",
     "text": [
      " 51%|█████▏    | 463/900 [04:20<03:59,  1.82it/s]"
     ]
    },
    {
     "name": "stdout",
     "output_type": "stream",
     "text": [
      "Failed to download image: 562_frontal.jpg. Status code: 404\n"
     ]
    },
    {
     "name": "stderr",
     "output_type": "stream",
     "text": [
      " 52%|█████▏    | 464/900 [04:20<03:44,  1.94it/s]"
     ]
    },
    {
     "name": "stdout",
     "output_type": "stream",
     "text": [
      "Failed to download image: 563_frontal.jpg. Status code: 404\n"
     ]
    },
    {
     "name": "stderr",
     "output_type": "stream",
     "text": [
      " 52%|█████▏    | 465/900 [04:21<04:08,  1.75it/s]"
     ]
    },
    {
     "name": "stdout",
     "output_type": "stream",
     "text": [
      "Failed to download image: 564_frontal.jpg. Status code: 404\n"
     ]
    },
    {
     "name": "stderr",
     "output_type": "stream",
     "text": [
      " 52%|█████▏    | 466/900 [04:21<03:49,  1.89it/s]"
     ]
    },
    {
     "name": "stdout",
     "output_type": "stream",
     "text": [
      "Failed to download image: 565_frontal.jpg. Status code: 404\n"
     ]
    },
    {
     "name": "stderr",
     "output_type": "stream",
     "text": [
      " 52%|█████▏    | 467/900 [04:22<04:06,  1.76it/s]"
     ]
    },
    {
     "name": "stdout",
     "output_type": "stream",
     "text": [
      "Failed to download image: 566_frontal.jpg. Status code: 404\n"
     ]
    },
    {
     "name": "stderr",
     "output_type": "stream",
     "text": [
      " 52%|█████▏    | 468/900 [04:23<04:20,  1.66it/s]"
     ]
    },
    {
     "name": "stdout",
     "output_type": "stream",
     "text": [
      "Failed to download image: 567_frontal.jpg. Status code: 404\n"
     ]
    },
    {
     "name": "stderr",
     "output_type": "stream",
     "text": [
      " 52%|█████▏    | 469/900 [04:23<03:54,  1.83it/s]"
     ]
    },
    {
     "name": "stdout",
     "output_type": "stream",
     "text": [
      "Failed to download image: 568_frontal.jpg. Status code: 404\n"
     ]
    },
    {
     "name": "stderr",
     "output_type": "stream",
     "text": [
      " 52%|█████▏    | 470/900 [04:24<03:40,  1.95it/s]"
     ]
    },
    {
     "name": "stdout",
     "output_type": "stream",
     "text": [
      "Failed to download image: 569_frontal.jpg. Status code: 404\n"
     ]
    },
    {
     "name": "stderr",
     "output_type": "stream",
     "text": [
      " 52%|█████▏    | 471/900 [04:24<03:31,  2.03it/s]"
     ]
    },
    {
     "name": "stdout",
     "output_type": "stream",
     "text": [
      "Failed to download image: 570_frontal.jpg. Status code: 404\n"
     ]
    },
    {
     "name": "stderr",
     "output_type": "stream",
     "text": [
      " 52%|█████▏    | 472/900 [04:25<04:03,  1.75it/s]"
     ]
    },
    {
     "name": "stdout",
     "output_type": "stream",
     "text": [
      "Failed to download image: 571_frontal.jpg. Status code: 404\n"
     ]
    },
    {
     "name": "stderr",
     "output_type": "stream",
     "text": [
      " 53%|█████▎    | 473/900 [04:25<03:45,  1.89it/s]"
     ]
    },
    {
     "name": "stdout",
     "output_type": "stream",
     "text": [
      "Failed to download image: 572_frontal.jpg. Status code: 404\n"
     ]
    },
    {
     "name": "stderr",
     "output_type": "stream",
     "text": [
      " 53%|█████▎    | 474/900 [04:26<03:33,  1.99it/s]"
     ]
    },
    {
     "name": "stdout",
     "output_type": "stream",
     "text": [
      "Failed to download image: 573_frontal.jpg. Status code: 404\n"
     ]
    },
    {
     "name": "stderr",
     "output_type": "stream",
     "text": [
      " 53%|█████▎    | 475/900 [04:26<03:24,  2.07it/s]"
     ]
    },
    {
     "name": "stdout",
     "output_type": "stream",
     "text": [
      "Failed to download image: 574_frontal.jpg. Status code: 404\n"
     ]
    },
    {
     "name": "stderr",
     "output_type": "stream",
     "text": [
      " 53%|█████▎    | 476/900 [04:26<03:10,  2.23it/s]"
     ]
    },
    {
     "name": "stdout",
     "output_type": "stream",
     "text": [
      "Failed to download image: 575_frontal.jpg. Status code: 404\n"
     ]
    },
    {
     "name": "stderr",
     "output_type": "stream",
     "text": [
      " 53%|█████▎    | 477/900 [04:27<03:03,  2.31it/s]"
     ]
    },
    {
     "name": "stdout",
     "output_type": "stream",
     "text": [
      "Failed to download image: 576_frontal.jpg. Status code: 404\n"
     ]
    },
    {
     "name": "stderr",
     "output_type": "stream",
     "text": [
      " 53%|█████▎    | 478/900 [04:27<03:31,  2.00it/s]"
     ]
    },
    {
     "name": "stdout",
     "output_type": "stream",
     "text": [
      "Failed to download image: 577_frontal.jpg. Status code: 404\n"
     ]
    },
    {
     "name": "stderr",
     "output_type": "stream",
     "text": [
      " 53%|█████▎    | 479/900 [04:28<03:16,  2.15it/s]"
     ]
    },
    {
     "name": "stdout",
     "output_type": "stream",
     "text": [
      "Failed to download image: 578_frontal.jpg. Status code: 404\n"
     ]
    },
    {
     "name": "stderr",
     "output_type": "stream",
     "text": [
      " 53%|█████▎    | 480/900 [04:28<03:04,  2.28it/s]"
     ]
    },
    {
     "name": "stdout",
     "output_type": "stream",
     "text": [
      "Failed to download image: 579_frontal.jpg. Status code: 404\n"
     ]
    },
    {
     "name": "stderr",
     "output_type": "stream",
     "text": [
      " 53%|█████▎    | 481/900 [04:29<03:02,  2.29it/s]"
     ]
    },
    {
     "name": "stdout",
     "output_type": "stream",
     "text": [
      "Failed to download image: 580_frontal.jpg. Status code: 404\n"
     ]
    },
    {
     "name": "stderr",
     "output_type": "stream",
     "text": [
      " 54%|█████▎    | 482/900 [04:29<03:01,  2.30it/s]"
     ]
    },
    {
     "name": "stdout",
     "output_type": "stream",
     "text": [
      "Failed to download image: 581_frontal.jpg. Status code: 404\n"
     ]
    },
    {
     "name": "stderr",
     "output_type": "stream",
     "text": [
      " 54%|█████▎    | 483/900 [04:30<03:05,  2.25it/s]"
     ]
    },
    {
     "name": "stdout",
     "output_type": "stream",
     "text": [
      "Failed to download image: 582_frontal.jpg. Status code: 404\n"
     ]
    },
    {
     "name": "stderr",
     "output_type": "stream",
     "text": [
      " 54%|█████▍    | 484/900 [04:30<03:37,  1.91it/s]"
     ]
    },
    {
     "name": "stdout",
     "output_type": "stream",
     "text": [
      "Failed to download image: 583_frontal.jpg. Status code: 404\n"
     ]
    },
    {
     "name": "stderr",
     "output_type": "stream",
     "text": [
      " 54%|█████▍    | 485/900 [04:31<03:55,  1.76it/s]"
     ]
    },
    {
     "name": "stdout",
     "output_type": "stream",
     "text": [
      "Failed to download image: 584_frontal.jpg. Status code: 404\n"
     ]
    },
    {
     "name": "stderr",
     "output_type": "stream",
     "text": [
      " 54%|█████▍    | 486/900 [04:32<04:13,  1.63it/s]"
     ]
    },
    {
     "name": "stdout",
     "output_type": "stream",
     "text": [
      "Failed to download image: 585_frontal.jpg. Status code: 404\n"
     ]
    },
    {
     "name": "stderr",
     "output_type": "stream",
     "text": [
      " 54%|█████▍    | 487/900 [04:32<04:10,  1.65it/s]"
     ]
    },
    {
     "name": "stdout",
     "output_type": "stream",
     "text": [
      "Failed to download image: 586_frontal.jpg. Status code: 404\n"
     ]
    },
    {
     "name": "stderr",
     "output_type": "stream",
     "text": [
      " 54%|█████▍    | 488/900 [04:33<03:45,  1.83it/s]"
     ]
    },
    {
     "name": "stdout",
     "output_type": "stream",
     "text": [
      "Failed to download image: 587_frontal.jpg. Status code: 404\n"
     ]
    },
    {
     "name": "stderr",
     "output_type": "stream",
     "text": [
      " 54%|█████▍    | 489/900 [04:33<03:29,  1.96it/s]"
     ]
    },
    {
     "name": "stdout",
     "output_type": "stream",
     "text": [
      "Failed to download image: 588_frontal.jpg. Status code: 404\n"
     ]
    },
    {
     "name": "stderr",
     "output_type": "stream",
     "text": [
      " 54%|█████▍    | 490/900 [04:33<03:13,  2.12it/s]"
     ]
    },
    {
     "name": "stdout",
     "output_type": "stream",
     "text": [
      "Failed to download image: 589_frontal.jpg. Status code: 404\n"
     ]
    },
    {
     "name": "stderr",
     "output_type": "stream",
     "text": [
      " 55%|█████▍    | 491/900 [04:34<03:34,  1.90it/s]"
     ]
    },
    {
     "name": "stdout",
     "output_type": "stream",
     "text": [
      "Failed to download image: 590_frontal.jpg. Status code: 404\n"
     ]
    },
    {
     "name": "stderr",
     "output_type": "stream",
     "text": [
      " 55%|█████▍    | 492/900 [04:35<03:50,  1.77it/s]"
     ]
    },
    {
     "name": "stdout",
     "output_type": "stream",
     "text": [
      "Failed to download image: 591_frontal.jpg. Status code: 404\n"
     ]
    },
    {
     "name": "stderr",
     "output_type": "stream",
     "text": [
      " 55%|█████▍    | 493/900 [04:35<03:55,  1.72it/s]"
     ]
    },
    {
     "name": "stdout",
     "output_type": "stream",
     "text": [
      "Failed to download image: 592_frontal.jpg. Status code: 404\n"
     ]
    },
    {
     "name": "stderr",
     "output_type": "stream",
     "text": [
      " 55%|█████▍    | 494/900 [04:36<03:44,  1.81it/s]"
     ]
    },
    {
     "name": "stdout",
     "output_type": "stream",
     "text": [
      "Failed to download image: 593_frontal.jpg. Status code: 404\n"
     ]
    },
    {
     "name": "stderr",
     "output_type": "stream",
     "text": [
      " 55%|█████▌    | 495/900 [04:37<04:05,  1.65it/s]"
     ]
    },
    {
     "name": "stdout",
     "output_type": "stream",
     "text": [
      "Failed to download image: 594_frontal.jpg. Status code: 404\n"
     ]
    },
    {
     "name": "stderr",
     "output_type": "stream",
     "text": [
      " 55%|█████▌    | 496/900 [04:37<03:41,  1.82it/s]"
     ]
    },
    {
     "name": "stdout",
     "output_type": "stream",
     "text": [
      "Failed to download image: 595_frontal.jpg. Status code: 404\n"
     ]
    },
    {
     "name": "stderr",
     "output_type": "stream",
     "text": [
      " 55%|█████▌    | 497/900 [04:37<03:25,  1.96it/s]"
     ]
    },
    {
     "name": "stdout",
     "output_type": "stream",
     "text": [
      "Failed to download image: 596_frontal.jpg. Status code: 404\n"
     ]
    },
    {
     "name": "stderr",
     "output_type": "stream",
     "text": [
      " 55%|█████▌    | 498/900 [04:38<03:17,  2.03it/s]"
     ]
    },
    {
     "name": "stdout",
     "output_type": "stream",
     "text": [
      "Failed to download image: 597_frontal.jpg. Status code: 404\n"
     ]
    },
    {
     "name": "stderr",
     "output_type": "stream",
     "text": [
      " 55%|█████▌    | 499/900 [04:38<03:08,  2.13it/s]"
     ]
    },
    {
     "name": "stdout",
     "output_type": "stream",
     "text": [
      "Failed to download image: 598_frontal.jpg. Status code: 404\n"
     ]
    },
    {
     "name": "stderr",
     "output_type": "stream",
     "text": [
      " 56%|█████▌    | 500/900 [04:39<03:02,  2.19it/s]"
     ]
    },
    {
     "name": "stdout",
     "output_type": "stream",
     "text": [
      "Failed to download image: 599_frontal.jpg. Status code: 404\n"
     ]
    },
    {
     "name": "stderr",
     "output_type": "stream",
     "text": [
      " 56%|█████▌    | 501/900 [04:39<03:25,  1.94it/s]"
     ]
    },
    {
     "name": "stdout",
     "output_type": "stream",
     "text": [
      "Failed to download image: 600_frontal.jpg. Status code: 404\n"
     ]
    },
    {
     "name": "stderr",
     "output_type": "stream",
     "text": [
      " 56%|█████▌    | 502/900 [04:40<03:10,  2.09it/s]"
     ]
    },
    {
     "name": "stdout",
     "output_type": "stream",
     "text": [
      "Failed to download image: 601_frontal.jpg. Status code: 404\n"
     ]
    },
    {
     "name": "stderr",
     "output_type": "stream",
     "text": [
      " 56%|█████▌    | 503/900 [04:40<03:31,  1.87it/s]"
     ]
    },
    {
     "name": "stdout",
     "output_type": "stream",
     "text": [
      "Failed to download image: 602_frontal.jpg. Status code: 404\n"
     ]
    },
    {
     "name": "stderr",
     "output_type": "stream",
     "text": [
      " 56%|█████▌    | 504/900 [04:41<03:47,  1.74it/s]"
     ]
    },
    {
     "name": "stdout",
     "output_type": "stream",
     "text": [
      "Failed to download image: 603_frontal.jpg. Status code: 404\n"
     ]
    },
    {
     "name": "stderr",
     "output_type": "stream",
     "text": [
      " 56%|█████▌    | 505/900 [04:41<03:24,  1.93it/s]"
     ]
    },
    {
     "name": "stdout",
     "output_type": "stream",
     "text": [
      "Failed to download image: 604_frontal.jpg. Status code: 404\n"
     ]
    },
    {
     "name": "stderr",
     "output_type": "stream",
     "text": [
      " 56%|█████▌    | 506/900 [04:42<03:40,  1.78it/s]"
     ]
    },
    {
     "name": "stdout",
     "output_type": "stream",
     "text": [
      "Failed to download image: 605_frontal.jpg. Status code: 404\n"
     ]
    },
    {
     "name": "stderr",
     "output_type": "stream",
     "text": [
      " 56%|█████▋    | 507/900 [04:43<03:23,  1.93it/s]"
     ]
    },
    {
     "name": "stdout",
     "output_type": "stream",
     "text": [
      "Failed to download image: 606_frontal.jpg. Status code: 404\n"
     ]
    },
    {
     "name": "stderr",
     "output_type": "stream",
     "text": [
      " 56%|█████▋    | 508/900 [04:43<03:13,  2.03it/s]"
     ]
    },
    {
     "name": "stdout",
     "output_type": "stream",
     "text": [
      "Failed to download image: 607_frontal.jpg. Status code: 404\n"
     ]
    },
    {
     "name": "stderr",
     "output_type": "stream",
     "text": [
      " 57%|█████▋    | 509/900 [04:43<03:07,  2.09it/s]"
     ]
    },
    {
     "name": "stdout",
     "output_type": "stream",
     "text": [
      "Failed to download image: 608_frontal.jpg. Status code: 404\n"
     ]
    },
    {
     "name": "stderr",
     "output_type": "stream",
     "text": [
      " 57%|█████▋    | 510/900 [04:44<03:03,  2.12it/s]"
     ]
    },
    {
     "name": "stdout",
     "output_type": "stream",
     "text": [
      "Failed to download image: 609_frontal.jpg. Status code: 404\n"
     ]
    },
    {
     "name": "stderr",
     "output_type": "stream",
     "text": [
      " 57%|█████▋    | 511/900 [04:44<02:58,  2.18it/s]"
     ]
    },
    {
     "name": "stdout",
     "output_type": "stream",
     "text": [
      "Failed to download image: 610_frontal.jpg. Status code: 404\n"
     ]
    },
    {
     "name": "stderr",
     "output_type": "stream",
     "text": [
      " 57%|█████▋    | 512/900 [04:45<02:57,  2.18it/s]"
     ]
    },
    {
     "name": "stdout",
     "output_type": "stream",
     "text": [
      "Failed to download image: 611_frontal.jpg. Status code: 404\n"
     ]
    },
    {
     "name": "stderr",
     "output_type": "stream",
     "text": [
      " 57%|█████▋    | 513/900 [04:45<02:53,  2.23it/s]"
     ]
    },
    {
     "name": "stdout",
     "output_type": "stream",
     "text": [
      "Failed to download image: 612_frontal.jpg. Status code: 404\n"
     ]
    },
    {
     "name": "stderr",
     "output_type": "stream",
     "text": [
      " 57%|█████▋    | 514/900 [04:46<02:57,  2.17it/s]"
     ]
    },
    {
     "name": "stdout",
     "output_type": "stream",
     "text": [
      "Failed to download image: 613_frontal.jpg. Status code: 404\n"
     ]
    },
    {
     "name": "stderr",
     "output_type": "stream",
     "text": [
      " 57%|█████▋    | 515/900 [04:46<02:58,  2.16it/s]"
     ]
    },
    {
     "name": "stdout",
     "output_type": "stream",
     "text": [
      "Failed to download image: 614_frontal.jpg. Status code: 404\n"
     ]
    },
    {
     "name": "stderr",
     "output_type": "stream",
     "text": [
      " 57%|█████▋    | 516/900 [04:47<02:52,  2.22it/s]"
     ]
    },
    {
     "name": "stdout",
     "output_type": "stream",
     "text": [
      "Failed to download image: 615_frontal.jpg. Status code: 404\n"
     ]
    },
    {
     "name": "stderr",
     "output_type": "stream",
     "text": [
      " 57%|█████▋    | 517/900 [04:47<02:46,  2.31it/s]"
     ]
    },
    {
     "name": "stdout",
     "output_type": "stream",
     "text": [
      "Failed to download image: 616_frontal.jpg. Status code: 404\n"
     ]
    },
    {
     "name": "stderr",
     "output_type": "stream",
     "text": [
      " 58%|█████▊    | 518/900 [04:48<03:14,  1.97it/s]"
     ]
    },
    {
     "name": "stdout",
     "output_type": "stream",
     "text": [
      "Failed to download image: 617_frontal.jpg. Status code: 404\n"
     ]
    },
    {
     "name": "stderr",
     "output_type": "stream",
     "text": [
      " 58%|█████▊    | 519/900 [04:48<03:20,  1.90it/s]"
     ]
    },
    {
     "name": "stdout",
     "output_type": "stream",
     "text": [
      "Failed to download image: 618_frontal.jpg. Status code: 404\n"
     ]
    },
    {
     "name": "stderr",
     "output_type": "stream",
     "text": [
      " 58%|█████▊    | 520/900 [04:49<03:04,  2.06it/s]"
     ]
    },
    {
     "name": "stdout",
     "output_type": "stream",
     "text": [
      "Failed to download image: 619_frontal.jpg. Status code: 404\n"
     ]
    },
    {
     "name": "stderr",
     "output_type": "stream",
     "text": [
      " 58%|█████▊    | 521/900 [04:49<03:27,  1.83it/s]"
     ]
    },
    {
     "name": "stdout",
     "output_type": "stream",
     "text": [
      "Failed to download image: 620_frontal.jpg. Status code: 404\n"
     ]
    },
    {
     "name": "stderr",
     "output_type": "stream",
     "text": [
      " 58%|█████▊    | 522/900 [04:50<03:15,  1.94it/s]"
     ]
    },
    {
     "name": "stdout",
     "output_type": "stream",
     "text": [
      "Failed to download image: 621_frontal.jpg. Status code: 404\n"
     ]
    },
    {
     "name": "stderr",
     "output_type": "stream",
     "text": [
      " 58%|█████▊    | 523/900 [04:50<03:01,  2.08it/s]"
     ]
    },
    {
     "name": "stdout",
     "output_type": "stream",
     "text": [
      "Failed to download image: 622_frontal.jpg. Status code: 404\n"
     ]
    },
    {
     "name": "stderr",
     "output_type": "stream",
     "text": [
      " 58%|█████▊    | 524/900 [04:51<02:52,  2.18it/s]"
     ]
    },
    {
     "name": "stdout",
     "output_type": "stream",
     "text": [
      "Failed to download image: 623_frontal.jpg. Status code: 404\n"
     ]
    },
    {
     "name": "stderr",
     "output_type": "stream",
     "text": [
      " 58%|█████▊    | 525/900 [04:51<03:14,  1.92it/s]"
     ]
    },
    {
     "name": "stdout",
     "output_type": "stream",
     "text": [
      "Failed to download image: 624_frontal.jpg. Status code: 404\n"
     ]
    },
    {
     "name": "stderr",
     "output_type": "stream",
     "text": [
      " 58%|█████▊    | 526/900 [04:52<02:59,  2.08it/s]"
     ]
    },
    {
     "name": "stdout",
     "output_type": "stream",
     "text": [
      "Failed to download image: 625_frontal.jpg. Status code: 404\n"
     ]
    },
    {
     "name": "stderr",
     "output_type": "stream",
     "text": [
      " 59%|█████▊    | 527/900 [04:52<02:49,  2.20it/s]"
     ]
    },
    {
     "name": "stdout",
     "output_type": "stream",
     "text": [
      "Failed to download image: 626_frontal.jpg. Status code: 404\n"
     ]
    },
    {
     "name": "stderr",
     "output_type": "stream",
     "text": [
      " 59%|█████▊    | 528/900 [04:52<02:45,  2.25it/s]"
     ]
    },
    {
     "name": "stdout",
     "output_type": "stream",
     "text": [
      "Failed to download image: 627_frontal.jpg. Status code: 404\n"
     ]
    },
    {
     "name": "stderr",
     "output_type": "stream",
     "text": [
      " 59%|█████▉    | 529/900 [04:53<02:44,  2.26it/s]"
     ]
    },
    {
     "name": "stdout",
     "output_type": "stream",
     "text": [
      "Failed to download image: 628_frontal.jpg. Status code: 404\n"
     ]
    },
    {
     "name": "stderr",
     "output_type": "stream",
     "text": [
      " 59%|█████▉    | 530/900 [04:54<03:13,  1.91it/s]"
     ]
    },
    {
     "name": "stdout",
     "output_type": "stream",
     "text": [
      "Failed to download image: 629_frontal.jpg. Status code: 404\n"
     ]
    },
    {
     "name": "stderr",
     "output_type": "stream",
     "text": [
      " 59%|█████▉    | 531/900 [04:54<03:02,  2.02it/s]"
     ]
    },
    {
     "name": "stdout",
     "output_type": "stream",
     "text": [
      "Failed to download image: 630_frontal.jpg. Status code: 404\n"
     ]
    },
    {
     "name": "stderr",
     "output_type": "stream",
     "text": [
      " 59%|█████▉    | 532/900 [04:55<03:21,  1.83it/s]"
     ]
    },
    {
     "name": "stdout",
     "output_type": "stream",
     "text": [
      "Failed to download image: 631_frontal.jpg. Status code: 404\n"
     ]
    },
    {
     "name": "stderr",
     "output_type": "stream",
     "text": [
      " 59%|█████▉    | 533/900 [04:55<03:10,  1.92it/s]"
     ]
    },
    {
     "name": "stdout",
     "output_type": "stream",
     "text": [
      "Failed to download image: 632_frontal.jpg. Status code: 404\n"
     ]
    },
    {
     "name": "stderr",
     "output_type": "stream",
     "text": [
      " 59%|█████▉    | 534/900 [04:56<03:07,  1.95it/s]"
     ]
    },
    {
     "name": "stdout",
     "output_type": "stream",
     "text": [
      "Failed to download image: 633_frontal.jpg. Status code: 404\n"
     ]
    },
    {
     "name": "stderr",
     "output_type": "stream",
     "text": [
      " 59%|█████▉    | 535/900 [04:56<02:58,  2.05it/s]"
     ]
    },
    {
     "name": "stdout",
     "output_type": "stream",
     "text": [
      "Failed to download image: 634_frontal.jpg. Status code: 404\n"
     ]
    },
    {
     "name": "stderr",
     "output_type": "stream",
     "text": [
      " 60%|█████▉    | 536/900 [04:56<02:50,  2.13it/s]"
     ]
    },
    {
     "name": "stdout",
     "output_type": "stream",
     "text": [
      "Failed to download image: 635_frontal.jpg. Status code: 404\n"
     ]
    },
    {
     "name": "stderr",
     "output_type": "stream",
     "text": [
      " 60%|█████▉    | 537/900 [04:57<03:12,  1.89it/s]"
     ]
    },
    {
     "name": "stdout",
     "output_type": "stream",
     "text": [
      "Failed to download image: 636_frontal.jpg. Status code: 404\n"
     ]
    },
    {
     "name": "stderr",
     "output_type": "stream",
     "text": [
      " 60%|█████▉    | 538/900 [04:58<02:54,  2.07it/s]"
     ]
    },
    {
     "name": "stdout",
     "output_type": "stream",
     "text": [
      "Failed to download image: 637_frontal.jpg. Status code: 404\n"
     ]
    },
    {
     "name": "stderr",
     "output_type": "stream",
     "text": [
      " 60%|█████▉    | 539/900 [04:58<02:57,  2.03it/s]"
     ]
    },
    {
     "name": "stdout",
     "output_type": "stream",
     "text": [
      "Failed to download image: 638_frontal.jpg. Status code: 404\n"
     ]
    },
    {
     "name": "stderr",
     "output_type": "stream",
     "text": [
      " 60%|█████▉    | 539/900 [04:58<03:20,  1.80it/s]\n"
     ]
    },
    {
     "ename": "KeyboardInterrupt",
     "evalue": "",
     "output_type": "error",
     "traceback": [
      "\u001b[0;31m---------------------------------------------------------------------------\u001b[0m",
      "\u001b[0;31mKeyboardInterrupt\u001b[0m                         Traceback (most recent call last)",
      "Cell \u001b[0;32mIn[1], line 24\u001b[0m\n\u001b[1;32m     21\u001b[0m             \u001b[38;5;28mprint\u001b[39m(\u001b[38;5;124mf\u001b[39m\u001b[38;5;124m\"\u001b[39m\u001b[38;5;124mFailed to download image: \u001b[39m\u001b[38;5;132;01m{\u001b[39;00mimage_id\u001b[38;5;132;01m}\u001b[39;00m\u001b[38;5;124m. Status code: \u001b[39m\u001b[38;5;132;01m{\u001b[39;00mresponse\u001b[38;5;241m.\u001b[39mstatus_code\u001b[38;5;132;01m}\u001b[39;00m\u001b[38;5;124m\"\u001b[39m)\n\u001b[1;32m     23\u001b[0m \u001b[38;5;28;01mif\u001b[39;00m \u001b[38;5;18m__name__\u001b[39m \u001b[38;5;241m==\u001b[39m \u001b[38;5;124m\"\u001b[39m\u001b[38;5;124m__main__\u001b[39m\u001b[38;5;124m\"\u001b[39m:\n\u001b[0;32m---> 24\u001b[0m     \u001b[43mcollect_images\u001b[49m\u001b[43m(\u001b[49m\u001b[43m)\u001b[49m\n",
      "Cell \u001b[0;32mIn[1], line 14\u001b[0m, in \u001b[0;36mcollect_images\u001b[0;34m()\u001b[0m\n\u001b[1;32m     11\u001b[0m \u001b[38;5;28;01mfor\u001b[39;00m image_id \u001b[38;5;129;01min\u001b[39;00m tqdm(image_ids):\n\u001b[1;32m     12\u001b[0m     \u001b[38;5;66;03m# Save the image to local\u001b[39;00m\n\u001b[1;32m     13\u001b[0m     image_url \u001b[38;5;241m=\u001b[39m \u001b[38;5;124mf\u001b[39m\u001b[38;5;124m\"\u001b[39m\u001b[38;5;132;01m{\u001b[39;00mGITHUB_IMG_DIR\u001b[38;5;132;01m}\u001b[39;00m\u001b[38;5;124m/\u001b[39m\u001b[38;5;132;01m{\u001b[39;00mimage_id\u001b[38;5;132;01m}\u001b[39;00m\u001b[38;5;124m\"\u001b[39m\n\u001b[0;32m---> 14\u001b[0m     response \u001b[38;5;241m=\u001b[39m \u001b[43mrequests\u001b[49m\u001b[38;5;241;43m.\u001b[39;49m\u001b[43mget\u001b[49m\u001b[43m(\u001b[49m\u001b[43mimage_url\u001b[49m\u001b[43m)\u001b[49m\n\u001b[1;32m     15\u001b[0m     \u001b[38;5;28;01mif\u001b[39;00m response\u001b[38;5;241m.\u001b[39mstatus_code \u001b[38;5;241m==\u001b[39m \u001b[38;5;241m200\u001b[39m:\n\u001b[1;32m     16\u001b[0m         \u001b[38;5;66;03m# Save the image\u001b[39;00m\n\u001b[1;32m     17\u001b[0m         os\u001b[38;5;241m.\u001b[39mmakedirs(IMG_DIR, exist_ok\u001b[38;5;241m=\u001b[39m\u001b[38;5;28;01mTrue\u001b[39;00m)\n",
      "File \u001b[0;32m/opt/homebrew/Caskroom/miniconda/base/envs/sd-lora/lib/python3.11/site-packages/requests/api.py:73\u001b[0m, in \u001b[0;36mget\u001b[0;34m(url, params, **kwargs)\u001b[0m\n\u001b[1;32m     62\u001b[0m \u001b[38;5;28;01mdef\u001b[39;00m \u001b[38;5;21mget\u001b[39m(url, params\u001b[38;5;241m=\u001b[39m\u001b[38;5;28;01mNone\u001b[39;00m, \u001b[38;5;241m*\u001b[39m\u001b[38;5;241m*\u001b[39mkwargs):\n\u001b[1;32m     63\u001b[0m \u001b[38;5;250m    \u001b[39m\u001b[38;5;124mr\u001b[39m\u001b[38;5;124;03m\"\"\"Sends a GET request.\u001b[39;00m\n\u001b[1;32m     64\u001b[0m \n\u001b[1;32m     65\u001b[0m \u001b[38;5;124;03m    :param url: URL for the new :class:`Request` object.\u001b[39;00m\n\u001b[0;32m   (...)\u001b[0m\n\u001b[1;32m     70\u001b[0m \u001b[38;5;124;03m    :rtype: requests.Response\u001b[39;00m\n\u001b[1;32m     71\u001b[0m \u001b[38;5;124;03m    \"\"\"\u001b[39;00m\n\u001b[0;32m---> 73\u001b[0m     \u001b[38;5;28;01mreturn\u001b[39;00m \u001b[43mrequest\u001b[49m\u001b[43m(\u001b[49m\u001b[38;5;124;43m\"\u001b[39;49m\u001b[38;5;124;43mget\u001b[39;49m\u001b[38;5;124;43m\"\u001b[39;49m\u001b[43m,\u001b[49m\u001b[43m \u001b[49m\u001b[43murl\u001b[49m\u001b[43m,\u001b[49m\u001b[43m \u001b[49m\u001b[43mparams\u001b[49m\u001b[38;5;241;43m=\u001b[39;49m\u001b[43mparams\u001b[49m\u001b[43m,\u001b[49m\u001b[43m \u001b[49m\u001b[38;5;241;43m*\u001b[39;49m\u001b[38;5;241;43m*\u001b[39;49m\u001b[43mkwargs\u001b[49m\u001b[43m)\u001b[49m\n",
      "File \u001b[0;32m/opt/homebrew/Caskroom/miniconda/base/envs/sd-lora/lib/python3.11/site-packages/requests/api.py:59\u001b[0m, in \u001b[0;36mrequest\u001b[0;34m(method, url, **kwargs)\u001b[0m\n\u001b[1;32m     55\u001b[0m \u001b[38;5;66;03m# By using the 'with' statement we are sure the session is closed, thus we\u001b[39;00m\n\u001b[1;32m     56\u001b[0m \u001b[38;5;66;03m# avoid leaving sockets open which can trigger a ResourceWarning in some\u001b[39;00m\n\u001b[1;32m     57\u001b[0m \u001b[38;5;66;03m# cases, and look like a memory leak in others.\u001b[39;00m\n\u001b[1;32m     58\u001b[0m \u001b[38;5;28;01mwith\u001b[39;00m sessions\u001b[38;5;241m.\u001b[39mSession() \u001b[38;5;28;01mas\u001b[39;00m session:\n\u001b[0;32m---> 59\u001b[0m     \u001b[38;5;28;01mreturn\u001b[39;00m \u001b[43msession\u001b[49m\u001b[38;5;241;43m.\u001b[39;49m\u001b[43mrequest\u001b[49m\u001b[43m(\u001b[49m\u001b[43mmethod\u001b[49m\u001b[38;5;241;43m=\u001b[39;49m\u001b[43mmethod\u001b[49m\u001b[43m,\u001b[49m\u001b[43m \u001b[49m\u001b[43murl\u001b[49m\u001b[38;5;241;43m=\u001b[39;49m\u001b[43murl\u001b[49m\u001b[43m,\u001b[49m\u001b[43m \u001b[49m\u001b[38;5;241;43m*\u001b[39;49m\u001b[38;5;241;43m*\u001b[39;49m\u001b[43mkwargs\u001b[49m\u001b[43m)\u001b[49m\n",
      "File \u001b[0;32m/opt/homebrew/Caskroom/miniconda/base/envs/sd-lora/lib/python3.11/site-packages/requests/sessions.py:589\u001b[0m, in \u001b[0;36mSession.request\u001b[0;34m(self, method, url, params, data, headers, cookies, files, auth, timeout, allow_redirects, proxies, hooks, stream, verify, cert, json)\u001b[0m\n\u001b[1;32m    584\u001b[0m send_kwargs \u001b[38;5;241m=\u001b[39m {\n\u001b[1;32m    585\u001b[0m     \u001b[38;5;124m\"\u001b[39m\u001b[38;5;124mtimeout\u001b[39m\u001b[38;5;124m\"\u001b[39m: timeout,\n\u001b[1;32m    586\u001b[0m     \u001b[38;5;124m\"\u001b[39m\u001b[38;5;124mallow_redirects\u001b[39m\u001b[38;5;124m\"\u001b[39m: allow_redirects,\n\u001b[1;32m    587\u001b[0m }\n\u001b[1;32m    588\u001b[0m send_kwargs\u001b[38;5;241m.\u001b[39mupdate(settings)\n\u001b[0;32m--> 589\u001b[0m resp \u001b[38;5;241m=\u001b[39m \u001b[38;5;28;43mself\u001b[39;49m\u001b[38;5;241;43m.\u001b[39;49m\u001b[43msend\u001b[49m\u001b[43m(\u001b[49m\u001b[43mprep\u001b[49m\u001b[43m,\u001b[49m\u001b[43m \u001b[49m\u001b[38;5;241;43m*\u001b[39;49m\u001b[38;5;241;43m*\u001b[39;49m\u001b[43msend_kwargs\u001b[49m\u001b[43m)\u001b[49m\n\u001b[1;32m    591\u001b[0m \u001b[38;5;28;01mreturn\u001b[39;00m resp\n",
      "File \u001b[0;32m/opt/homebrew/Caskroom/miniconda/base/envs/sd-lora/lib/python3.11/site-packages/requests/sessions.py:703\u001b[0m, in \u001b[0;36mSession.send\u001b[0;34m(self, request, **kwargs)\u001b[0m\n\u001b[1;32m    700\u001b[0m start \u001b[38;5;241m=\u001b[39m preferred_clock()\n\u001b[1;32m    702\u001b[0m \u001b[38;5;66;03m# Send the request\u001b[39;00m\n\u001b[0;32m--> 703\u001b[0m r \u001b[38;5;241m=\u001b[39m \u001b[43madapter\u001b[49m\u001b[38;5;241;43m.\u001b[39;49m\u001b[43msend\u001b[49m\u001b[43m(\u001b[49m\u001b[43mrequest\u001b[49m\u001b[43m,\u001b[49m\u001b[43m \u001b[49m\u001b[38;5;241;43m*\u001b[39;49m\u001b[38;5;241;43m*\u001b[39;49m\u001b[43mkwargs\u001b[49m\u001b[43m)\u001b[49m\n\u001b[1;32m    705\u001b[0m \u001b[38;5;66;03m# Total elapsed time of the request (approximately)\u001b[39;00m\n\u001b[1;32m    706\u001b[0m elapsed \u001b[38;5;241m=\u001b[39m preferred_clock() \u001b[38;5;241m-\u001b[39m start\n",
      "File \u001b[0;32m/opt/homebrew/Caskroom/miniconda/base/envs/sd-lora/lib/python3.11/site-packages/requests/adapters.py:667\u001b[0m, in \u001b[0;36mHTTPAdapter.send\u001b[0;34m(self, request, stream, timeout, verify, cert, proxies)\u001b[0m\n\u001b[1;32m    664\u001b[0m     timeout \u001b[38;5;241m=\u001b[39m TimeoutSauce(connect\u001b[38;5;241m=\u001b[39mtimeout, read\u001b[38;5;241m=\u001b[39mtimeout)\n\u001b[1;32m    666\u001b[0m \u001b[38;5;28;01mtry\u001b[39;00m:\n\u001b[0;32m--> 667\u001b[0m     resp \u001b[38;5;241m=\u001b[39m \u001b[43mconn\u001b[49m\u001b[38;5;241;43m.\u001b[39;49m\u001b[43murlopen\u001b[49m\u001b[43m(\u001b[49m\n\u001b[1;32m    668\u001b[0m \u001b[43m        \u001b[49m\u001b[43mmethod\u001b[49m\u001b[38;5;241;43m=\u001b[39;49m\u001b[43mrequest\u001b[49m\u001b[38;5;241;43m.\u001b[39;49m\u001b[43mmethod\u001b[49m\u001b[43m,\u001b[49m\n\u001b[1;32m    669\u001b[0m \u001b[43m        \u001b[49m\u001b[43murl\u001b[49m\u001b[38;5;241;43m=\u001b[39;49m\u001b[43murl\u001b[49m\u001b[43m,\u001b[49m\n\u001b[1;32m    670\u001b[0m \u001b[43m        \u001b[49m\u001b[43mbody\u001b[49m\u001b[38;5;241;43m=\u001b[39;49m\u001b[43mrequest\u001b[49m\u001b[38;5;241;43m.\u001b[39;49m\u001b[43mbody\u001b[49m\u001b[43m,\u001b[49m\n\u001b[1;32m    671\u001b[0m \u001b[43m        \u001b[49m\u001b[43mheaders\u001b[49m\u001b[38;5;241;43m=\u001b[39;49m\u001b[43mrequest\u001b[49m\u001b[38;5;241;43m.\u001b[39;49m\u001b[43mheaders\u001b[49m\u001b[43m,\u001b[49m\n\u001b[1;32m    672\u001b[0m \u001b[43m        \u001b[49m\u001b[43mredirect\u001b[49m\u001b[38;5;241;43m=\u001b[39;49m\u001b[38;5;28;43;01mFalse\u001b[39;49;00m\u001b[43m,\u001b[49m\n\u001b[1;32m    673\u001b[0m \u001b[43m        \u001b[49m\u001b[43massert_same_host\u001b[49m\u001b[38;5;241;43m=\u001b[39;49m\u001b[38;5;28;43;01mFalse\u001b[39;49;00m\u001b[43m,\u001b[49m\n\u001b[1;32m    674\u001b[0m \u001b[43m        \u001b[49m\u001b[43mpreload_content\u001b[49m\u001b[38;5;241;43m=\u001b[39;49m\u001b[38;5;28;43;01mFalse\u001b[39;49;00m\u001b[43m,\u001b[49m\n\u001b[1;32m    675\u001b[0m \u001b[43m        \u001b[49m\u001b[43mdecode_content\u001b[49m\u001b[38;5;241;43m=\u001b[39;49m\u001b[38;5;28;43;01mFalse\u001b[39;49;00m\u001b[43m,\u001b[49m\n\u001b[1;32m    676\u001b[0m \u001b[43m        \u001b[49m\u001b[43mretries\u001b[49m\u001b[38;5;241;43m=\u001b[39;49m\u001b[38;5;28;43mself\u001b[39;49m\u001b[38;5;241;43m.\u001b[39;49m\u001b[43mmax_retries\u001b[49m\u001b[43m,\u001b[49m\n\u001b[1;32m    677\u001b[0m \u001b[43m        \u001b[49m\u001b[43mtimeout\u001b[49m\u001b[38;5;241;43m=\u001b[39;49m\u001b[43mtimeout\u001b[49m\u001b[43m,\u001b[49m\n\u001b[1;32m    678\u001b[0m \u001b[43m        \u001b[49m\u001b[43mchunked\u001b[49m\u001b[38;5;241;43m=\u001b[39;49m\u001b[43mchunked\u001b[49m\u001b[43m,\u001b[49m\n\u001b[1;32m    679\u001b[0m \u001b[43m    \u001b[49m\u001b[43m)\u001b[49m\n\u001b[1;32m    681\u001b[0m \u001b[38;5;28;01mexcept\u001b[39;00m (ProtocolError, \u001b[38;5;167;01mOSError\u001b[39;00m) \u001b[38;5;28;01mas\u001b[39;00m err:\n\u001b[1;32m    682\u001b[0m     \u001b[38;5;28;01mraise\u001b[39;00m \u001b[38;5;167;01mConnectionError\u001b[39;00m(err, request\u001b[38;5;241m=\u001b[39mrequest)\n",
      "File \u001b[0;32m/opt/homebrew/Caskroom/miniconda/base/envs/sd-lora/lib/python3.11/site-packages/urllib3/connectionpool.py:789\u001b[0m, in \u001b[0;36mHTTPConnectionPool.urlopen\u001b[0;34m(self, method, url, body, headers, retries, redirect, assert_same_host, timeout, pool_timeout, release_conn, chunked, body_pos, preload_content, decode_content, **response_kw)\u001b[0m\n\u001b[1;32m    786\u001b[0m response_conn \u001b[38;5;241m=\u001b[39m conn \u001b[38;5;28;01mif\u001b[39;00m \u001b[38;5;129;01mnot\u001b[39;00m release_conn \u001b[38;5;28;01melse\u001b[39;00m \u001b[38;5;28;01mNone\u001b[39;00m\n\u001b[1;32m    788\u001b[0m \u001b[38;5;66;03m# Make the request on the HTTPConnection object\u001b[39;00m\n\u001b[0;32m--> 789\u001b[0m response \u001b[38;5;241m=\u001b[39m \u001b[38;5;28;43mself\u001b[39;49m\u001b[38;5;241;43m.\u001b[39;49m\u001b[43m_make_request\u001b[49m\u001b[43m(\u001b[49m\n\u001b[1;32m    790\u001b[0m \u001b[43m    \u001b[49m\u001b[43mconn\u001b[49m\u001b[43m,\u001b[49m\n\u001b[1;32m    791\u001b[0m \u001b[43m    \u001b[49m\u001b[43mmethod\u001b[49m\u001b[43m,\u001b[49m\n\u001b[1;32m    792\u001b[0m \u001b[43m    \u001b[49m\u001b[43murl\u001b[49m\u001b[43m,\u001b[49m\n\u001b[1;32m    793\u001b[0m \u001b[43m    \u001b[49m\u001b[43mtimeout\u001b[49m\u001b[38;5;241;43m=\u001b[39;49m\u001b[43mtimeout_obj\u001b[49m\u001b[43m,\u001b[49m\n\u001b[1;32m    794\u001b[0m \u001b[43m    \u001b[49m\u001b[43mbody\u001b[49m\u001b[38;5;241;43m=\u001b[39;49m\u001b[43mbody\u001b[49m\u001b[43m,\u001b[49m\n\u001b[1;32m    795\u001b[0m \u001b[43m    \u001b[49m\u001b[43mheaders\u001b[49m\u001b[38;5;241;43m=\u001b[39;49m\u001b[43mheaders\u001b[49m\u001b[43m,\u001b[49m\n\u001b[1;32m    796\u001b[0m \u001b[43m    \u001b[49m\u001b[43mchunked\u001b[49m\u001b[38;5;241;43m=\u001b[39;49m\u001b[43mchunked\u001b[49m\u001b[43m,\u001b[49m\n\u001b[1;32m    797\u001b[0m \u001b[43m    \u001b[49m\u001b[43mretries\u001b[49m\u001b[38;5;241;43m=\u001b[39;49m\u001b[43mretries\u001b[49m\u001b[43m,\u001b[49m\n\u001b[1;32m    798\u001b[0m \u001b[43m    \u001b[49m\u001b[43mresponse_conn\u001b[49m\u001b[38;5;241;43m=\u001b[39;49m\u001b[43mresponse_conn\u001b[49m\u001b[43m,\u001b[49m\n\u001b[1;32m    799\u001b[0m \u001b[43m    \u001b[49m\u001b[43mpreload_content\u001b[49m\u001b[38;5;241;43m=\u001b[39;49m\u001b[43mpreload_content\u001b[49m\u001b[43m,\u001b[49m\n\u001b[1;32m    800\u001b[0m \u001b[43m    \u001b[49m\u001b[43mdecode_content\u001b[49m\u001b[38;5;241;43m=\u001b[39;49m\u001b[43mdecode_content\u001b[49m\u001b[43m,\u001b[49m\n\u001b[1;32m    801\u001b[0m \u001b[43m    \u001b[49m\u001b[38;5;241;43m*\u001b[39;49m\u001b[38;5;241;43m*\u001b[39;49m\u001b[43mresponse_kw\u001b[49m\u001b[43m,\u001b[49m\n\u001b[1;32m    802\u001b[0m \u001b[43m\u001b[49m\u001b[43m)\u001b[49m\n\u001b[1;32m    804\u001b[0m \u001b[38;5;66;03m# Everything went great!\u001b[39;00m\n\u001b[1;32m    805\u001b[0m clean_exit \u001b[38;5;241m=\u001b[39m \u001b[38;5;28;01mTrue\u001b[39;00m\n",
      "File \u001b[0;32m/opt/homebrew/Caskroom/miniconda/base/envs/sd-lora/lib/python3.11/site-packages/urllib3/connectionpool.py:536\u001b[0m, in \u001b[0;36mHTTPConnectionPool._make_request\u001b[0;34m(self, conn, method, url, body, headers, retries, timeout, chunked, response_conn, preload_content, decode_content, enforce_content_length)\u001b[0m\n\u001b[1;32m    534\u001b[0m \u001b[38;5;66;03m# Receive the response from the server\u001b[39;00m\n\u001b[1;32m    535\u001b[0m \u001b[38;5;28;01mtry\u001b[39;00m:\n\u001b[0;32m--> 536\u001b[0m     response \u001b[38;5;241m=\u001b[39m \u001b[43mconn\u001b[49m\u001b[38;5;241;43m.\u001b[39;49m\u001b[43mgetresponse\u001b[49m\u001b[43m(\u001b[49m\u001b[43m)\u001b[49m\n\u001b[1;32m    537\u001b[0m \u001b[38;5;28;01mexcept\u001b[39;00m (BaseSSLError, \u001b[38;5;167;01mOSError\u001b[39;00m) \u001b[38;5;28;01mas\u001b[39;00m e:\n\u001b[1;32m    538\u001b[0m     \u001b[38;5;28mself\u001b[39m\u001b[38;5;241m.\u001b[39m_raise_timeout(err\u001b[38;5;241m=\u001b[39me, url\u001b[38;5;241m=\u001b[39murl, timeout_value\u001b[38;5;241m=\u001b[39mread_timeout)\n",
      "File \u001b[0;32m/opt/homebrew/Caskroom/miniconda/base/envs/sd-lora/lib/python3.11/site-packages/urllib3/connection.py:464\u001b[0m, in \u001b[0;36mHTTPConnection.getresponse\u001b[0;34m(self)\u001b[0m\n\u001b[1;32m    461\u001b[0m \u001b[38;5;28;01mfrom\u001b[39;00m \u001b[38;5;21;01m.\u001b[39;00m\u001b[38;5;21;01mresponse\u001b[39;00m \u001b[38;5;28;01mimport\u001b[39;00m HTTPResponse\n\u001b[1;32m    463\u001b[0m \u001b[38;5;66;03m# Get the response from http.client.HTTPConnection\u001b[39;00m\n\u001b[0;32m--> 464\u001b[0m httplib_response \u001b[38;5;241m=\u001b[39m \u001b[38;5;28;43msuper\u001b[39;49m\u001b[43m(\u001b[49m\u001b[43m)\u001b[49m\u001b[38;5;241;43m.\u001b[39;49m\u001b[43mgetresponse\u001b[49m\u001b[43m(\u001b[49m\u001b[43m)\u001b[49m\n\u001b[1;32m    466\u001b[0m \u001b[38;5;28;01mtry\u001b[39;00m:\n\u001b[1;32m    467\u001b[0m     assert_header_parsing(httplib_response\u001b[38;5;241m.\u001b[39mmsg)\n",
      "File \u001b[0;32m/opt/homebrew/Caskroom/miniconda/base/envs/sd-lora/lib/python3.11/http/client.py:1395\u001b[0m, in \u001b[0;36mHTTPConnection.getresponse\u001b[0;34m(self)\u001b[0m\n\u001b[1;32m   1393\u001b[0m \u001b[38;5;28;01mtry\u001b[39;00m:\n\u001b[1;32m   1394\u001b[0m     \u001b[38;5;28;01mtry\u001b[39;00m:\n\u001b[0;32m-> 1395\u001b[0m         \u001b[43mresponse\u001b[49m\u001b[38;5;241;43m.\u001b[39;49m\u001b[43mbegin\u001b[49m\u001b[43m(\u001b[49m\u001b[43m)\u001b[49m\n\u001b[1;32m   1396\u001b[0m     \u001b[38;5;28;01mexcept\u001b[39;00m \u001b[38;5;167;01mConnectionError\u001b[39;00m:\n\u001b[1;32m   1397\u001b[0m         \u001b[38;5;28mself\u001b[39m\u001b[38;5;241m.\u001b[39mclose()\n",
      "File \u001b[0;32m/opt/homebrew/Caskroom/miniconda/base/envs/sd-lora/lib/python3.11/http/client.py:325\u001b[0m, in \u001b[0;36mHTTPResponse.begin\u001b[0;34m(self)\u001b[0m\n\u001b[1;32m    323\u001b[0m \u001b[38;5;66;03m# read until we get a non-100 response\u001b[39;00m\n\u001b[1;32m    324\u001b[0m \u001b[38;5;28;01mwhile\u001b[39;00m \u001b[38;5;28;01mTrue\u001b[39;00m:\n\u001b[0;32m--> 325\u001b[0m     version, status, reason \u001b[38;5;241m=\u001b[39m \u001b[38;5;28;43mself\u001b[39;49m\u001b[38;5;241;43m.\u001b[39;49m\u001b[43m_read_status\u001b[49m\u001b[43m(\u001b[49m\u001b[43m)\u001b[49m\n\u001b[1;32m    326\u001b[0m     \u001b[38;5;28;01mif\u001b[39;00m status \u001b[38;5;241m!=\u001b[39m CONTINUE:\n\u001b[1;32m    327\u001b[0m         \u001b[38;5;28;01mbreak\u001b[39;00m\n",
      "File \u001b[0;32m/opt/homebrew/Caskroom/miniconda/base/envs/sd-lora/lib/python3.11/http/client.py:286\u001b[0m, in \u001b[0;36mHTTPResponse._read_status\u001b[0;34m(self)\u001b[0m\n\u001b[1;32m    285\u001b[0m \u001b[38;5;28;01mdef\u001b[39;00m \u001b[38;5;21m_read_status\u001b[39m(\u001b[38;5;28mself\u001b[39m):\n\u001b[0;32m--> 286\u001b[0m     line \u001b[38;5;241m=\u001b[39m \u001b[38;5;28mstr\u001b[39m(\u001b[38;5;28mself\u001b[39m\u001b[38;5;241m.\u001b[39mfp\u001b[38;5;241m.\u001b[39mreadline(_MAXLINE \u001b[38;5;241m+\u001b[39m \u001b[38;5;241m1\u001b[39m), \u001b[38;5;124m\"\u001b[39m\u001b[38;5;124miso-8859-1\u001b[39m\u001b[38;5;124m\"\u001b[39m)\n\u001b[1;32m    287\u001b[0m     \u001b[38;5;28;01mif\u001b[39;00m \u001b[38;5;28mlen\u001b[39m(line) \u001b[38;5;241m>\u001b[39m _MAXLINE:\n\u001b[1;32m    288\u001b[0m         \u001b[38;5;28;01mraise\u001b[39;00m LineTooLong(\u001b[38;5;124m\"\u001b[39m\u001b[38;5;124mstatus line\u001b[39m\u001b[38;5;124m\"\u001b[39m)\n",
      "File \u001b[0;32m/opt/homebrew/Caskroom/miniconda/base/envs/sd-lora/lib/python3.11/socket.py:706\u001b[0m, in \u001b[0;36mSocketIO.readinto\u001b[0;34m(self, b)\u001b[0m\n\u001b[1;32m    704\u001b[0m \u001b[38;5;28;01mwhile\u001b[39;00m \u001b[38;5;28;01mTrue\u001b[39;00m:\n\u001b[1;32m    705\u001b[0m     \u001b[38;5;28;01mtry\u001b[39;00m:\n\u001b[0;32m--> 706\u001b[0m         \u001b[38;5;28;01mreturn\u001b[39;00m \u001b[38;5;28;43mself\u001b[39;49m\u001b[38;5;241;43m.\u001b[39;49m\u001b[43m_sock\u001b[49m\u001b[38;5;241;43m.\u001b[39;49m\u001b[43mrecv_into\u001b[49m\u001b[43m(\u001b[49m\u001b[43mb\u001b[49m\u001b[43m)\u001b[49m\n\u001b[1;32m    707\u001b[0m     \u001b[38;5;28;01mexcept\u001b[39;00m timeout:\n\u001b[1;32m    708\u001b[0m         \u001b[38;5;28mself\u001b[39m\u001b[38;5;241m.\u001b[39m_timeout_occurred \u001b[38;5;241m=\u001b[39m \u001b[38;5;28;01mTrue\u001b[39;00m\n",
      "File \u001b[0;32m/opt/homebrew/Caskroom/miniconda/base/envs/sd-lora/lib/python3.11/ssl.py:1314\u001b[0m, in \u001b[0;36mSSLSocket.recv_into\u001b[0;34m(self, buffer, nbytes, flags)\u001b[0m\n\u001b[1;32m   1310\u001b[0m     \u001b[38;5;28;01mif\u001b[39;00m flags \u001b[38;5;241m!=\u001b[39m \u001b[38;5;241m0\u001b[39m:\n\u001b[1;32m   1311\u001b[0m         \u001b[38;5;28;01mraise\u001b[39;00m \u001b[38;5;167;01mValueError\u001b[39;00m(\n\u001b[1;32m   1312\u001b[0m           \u001b[38;5;124m\"\u001b[39m\u001b[38;5;124mnon-zero flags not allowed in calls to recv_into() on \u001b[39m\u001b[38;5;132;01m%s\u001b[39;00m\u001b[38;5;124m\"\u001b[39m \u001b[38;5;241m%\u001b[39m\n\u001b[1;32m   1313\u001b[0m           \u001b[38;5;28mself\u001b[39m\u001b[38;5;241m.\u001b[39m\u001b[38;5;18m__class__\u001b[39m)\n\u001b[0;32m-> 1314\u001b[0m     \u001b[38;5;28;01mreturn\u001b[39;00m \u001b[38;5;28;43mself\u001b[39;49m\u001b[38;5;241;43m.\u001b[39;49m\u001b[43mread\u001b[49m\u001b[43m(\u001b[49m\u001b[43mnbytes\u001b[49m\u001b[43m,\u001b[49m\u001b[43m \u001b[49m\u001b[43mbuffer\u001b[49m\u001b[43m)\u001b[49m\n\u001b[1;32m   1315\u001b[0m \u001b[38;5;28;01melse\u001b[39;00m:\n\u001b[1;32m   1316\u001b[0m     \u001b[38;5;28;01mreturn\u001b[39;00m \u001b[38;5;28msuper\u001b[39m()\u001b[38;5;241m.\u001b[39mrecv_into(buffer, nbytes, flags)\n",
      "File \u001b[0;32m/opt/homebrew/Caskroom/miniconda/base/envs/sd-lora/lib/python3.11/ssl.py:1166\u001b[0m, in \u001b[0;36mSSLSocket.read\u001b[0;34m(self, len, buffer)\u001b[0m\n\u001b[1;32m   1164\u001b[0m \u001b[38;5;28;01mtry\u001b[39;00m:\n\u001b[1;32m   1165\u001b[0m     \u001b[38;5;28;01mif\u001b[39;00m buffer \u001b[38;5;129;01mis\u001b[39;00m \u001b[38;5;129;01mnot\u001b[39;00m \u001b[38;5;28;01mNone\u001b[39;00m:\n\u001b[0;32m-> 1166\u001b[0m         \u001b[38;5;28;01mreturn\u001b[39;00m \u001b[38;5;28;43mself\u001b[39;49m\u001b[38;5;241;43m.\u001b[39;49m\u001b[43m_sslobj\u001b[49m\u001b[38;5;241;43m.\u001b[39;49m\u001b[43mread\u001b[49m\u001b[43m(\u001b[49m\u001b[38;5;28;43mlen\u001b[39;49m\u001b[43m,\u001b[49m\u001b[43m \u001b[49m\u001b[43mbuffer\u001b[49m\u001b[43m)\u001b[49m\n\u001b[1;32m   1167\u001b[0m     \u001b[38;5;28;01melse\u001b[39;00m:\n\u001b[1;32m   1168\u001b[0m         \u001b[38;5;28;01mreturn\u001b[39;00m \u001b[38;5;28mself\u001b[39m\u001b[38;5;241m.\u001b[39m_sslobj\u001b[38;5;241m.\u001b[39mread(\u001b[38;5;28mlen\u001b[39m)\n",
      "\u001b[0;31mKeyboardInterrupt\u001b[0m: "
     ]
    }
   ],
   "source": [
    "import requests\n",
    "import os\n",
    "from constants import *\n",
    "from tqdm import tqdm\n",
    "\n",
    "def collect_images():\n",
    "    # Image Ids\n",
    "    image_ids = [f\"{i}_frontal.jpg\" for i in range(100, 440)]\n",
    "    image_ids = image_ids[:min(NUM_IMAGES, len(image_ids))]\n",
    "\n",
    "    for image_id in tqdm(image_ids):\n",
    "        # Save the image to local\n",
    "        image_url = f\"{GITHUB_IMG_DIR}/{image_id}\"\n",
    "        response = requests.get(image_url)\n",
    "        if response.status_code == 200:\n",
    "            # Save the image\n",
    "            os.makedirs(IMG_DIR, exist_ok=True)\n",
    "            with open(f\"{IMG_DIR}/{image_id}\", \"wb\") as file:\n",
    "                file.write(response.content)\n",
    "        else:\n",
    "            print(f\"Failed to download image: {image_id}. Status code: {response.status_code}\")\n",
    "\n",
    "if __name__ == \"__main__\":\n",
    "    collect_images()\n"
   ]
  },
  {
   "cell_type": "code",
   "execution_count": 2,
   "metadata": {},
   "outputs": [
    {
     "name": "stdout",
     "output_type": "stream",
     "text": [
      "Requirement already satisfied: requests in /opt/homebrew/Caskroom/miniconda/base/envs/sd-lora/lib/python3.11/site-packages (2.32.3)\n",
      "Collecting beautifulsoup4\n",
      "  Downloading beautifulsoup4-4.12.3-py3-none-any.whl.metadata (3.8 kB)\n",
      "Requirement already satisfied: charset-normalizer<4,>=2 in /opt/homebrew/Caskroom/miniconda/base/envs/sd-lora/lib/python3.11/site-packages (from requests) (3.3.2)\n",
      "Requirement already satisfied: idna<4,>=2.5 in /opt/homebrew/Caskroom/miniconda/base/envs/sd-lora/lib/python3.11/site-packages (from requests) (3.7)\n",
      "Requirement already satisfied: urllib3<3,>=1.21.1 in /opt/homebrew/Caskroom/miniconda/base/envs/sd-lora/lib/python3.11/site-packages (from requests) (2.2.2)\n",
      "Requirement already satisfied: certifi>=2017.4.17 in /opt/homebrew/Caskroom/miniconda/base/envs/sd-lora/lib/python3.11/site-packages (from requests) (2024.7.4)\n",
      "Collecting soupsieve>1.2 (from beautifulsoup4)\n",
      "  Downloading soupsieve-2.5-py3-none-any.whl.metadata (4.7 kB)\n",
      "Downloading beautifulsoup4-4.12.3-py3-none-any.whl (147 kB)\n",
      "\u001b[2K   \u001b[90m━━━━━━━━━━━━━━━━━━━━━━━━━━━━━━━━━━━━━━━━\u001b[0m \u001b[32m147.9/147.9 kB\u001b[0m \u001b[31m5.4 MB/s\u001b[0m eta \u001b[36m0:00:00\u001b[0m\n",
      "\u001b[?25hDownloading soupsieve-2.5-py3-none-any.whl (36 kB)\n",
      "Installing collected packages: soupsieve, beautifulsoup4\n",
      "Successfully installed beautifulsoup4-4.12.3 soupsieve-2.5\n"
     ]
    }
   ],
   "source": [
    "! pip install requests beautifulsoup4"
   ]
  },
  {
   "cell_type": "code",
   "execution_count": 7,
   "metadata": {},
   "outputs": [
    {
     "name": "stdout",
     "output_type": "stream",
     "text": [
      "Fetching repository structure...\n",
      "\n",
      "Repository structure (limited to 3 levels):\n",
      "├── .gitattributes\n",
      "├── .gitignore\n",
      "├── Houses Dataset/\n",
      "│   ├── 100_bathroom.jpg\n",
      "│   ├── 100_bedroom.jpg\n",
      "│   ├── 100_frontal.jpg\n",
      "│   ├── 100_kitchen.jpg\n",
      "│   ├── 101_bathroom.jpg\n",
      "│   ├── 101_bedroom.jpg\n",
      "│   ├── 101_frontal.jpg\n",
      "│   ├── 101_kitchen.jpg\n",
      "│   ├── 102_bathroom.jpg\n",
      "│   ├── 102_bedroom.jpg\n",
      "│   ├── 102_frontal.jpg\n",
      "│   ├── 102_kitchen.jpg\n",
      "│   ├── 103_bathroom.jpg\n",
      "│   ├── 103_bedroom.jpg\n",
      "│   ├── 103_frontal.jpg\n",
      "│   ├── 103_kitchen.jpg\n",
      "│   ├── 104_bathroom.jpg\n",
      "│   ├── 104_bedroom.jpg\n",
      "│   ├── 104_frontal.jpg\n",
      "│   ├── 104_kitchen.jpg\n",
      "│   ├── 105_bathroom.jpg\n",
      "│   ├── 105_bedroom.jpg\n",
      "│   ├── 105_frontal.jpg\n",
      "│   ├── 105_kitchen.jpg\n",
      "│   ├── 106_bathroom.jpg\n",
      "│   ├── 106_bedroom.jpg\n",
      "│   ├── 106_frontal.jpg\n",
      "│   ├── 106_kitchen.jpg\n",
      "│   ├── 107_bathroom.jpg\n",
      "│   ├── 107_bedroom.jpg\n",
      "│   ├── 107_frontal.jpg\n",
      "│   ├── 107_kitchen.jpg\n",
      "│   ├── 108_bathroom.jpg\n",
      "│   ├── 108_bedroom.jpg\n",
      "│   ├── 108_frontal.jpg\n",
      "│   ├── 108_kitchen.jpg\n",
      "│   ├── 109_bathroom.jpg\n",
      "│   ├── 109_bedroom.jpg\n",
      "│   ├── 109_frontal.jpg\n",
      "│   ├── 109_kitchen.jpg\n",
      "│   ├── 10_bathroom.jpg\n",
      "│   ├── 10_bedroom.jpg\n",
      "│   ├── 10_frontal.jpg\n",
      "│   ├── 10_kitchen.jpg\n",
      "│   ├── 110_bathroom.jpg\n",
      "│   ├── 110_bedroom.jpg\n",
      "│   ├── 110_frontal.jpg\n",
      "│   ├── 110_kitchen.jpg\n",
      "│   ├── 111_bathroom.jpg\n",
      "│   ├── 111_bedroom.jpg\n",
      "│   ├── 111_frontal.jpg\n",
      "│   ├── 111_kitchen.jpg\n",
      "│   ├── 112_bathroom.jpg\n",
      "│   ├── 112_bedroom.jpg\n",
      "│   ├── 112_frontal.jpg\n",
      "│   ├── 112_kitchen.jpg\n",
      "│   ├── 113_bathroom.jpg\n",
      "│   ├── 113_bedroom.jpg\n",
      "│   ├── 113_frontal.jpg\n",
      "│   ├── 113_kitchen.jpg\n",
      "│   ├── 114_bathroom.jpg\n",
      "│   ├── 114_bedroom.jpg\n",
      "│   ├── 114_frontal.jpg\n",
      "│   ├── 114_kitchen.jpg\n",
      "│   ├── 115_bathroom.jpg\n",
      "│   ├── 115_bedroom.jpg\n",
      "│   ├── 115_frontal.jpg\n",
      "│   ├── 115_kitchen.jpg\n",
      "│   ├── 116_bathroom.jpg\n",
      "│   ├── 116_bedroom.jpg\n",
      "│   ├── 116_frontal.jpg\n",
      "│   ├── 116_kitchen.jpg\n",
      "│   ├── 117_bathroom.jpg\n",
      "│   ├── 117_bedroom.jpg\n",
      "│   ├── 117_frontal.jpg\n",
      "│   ├── 117_kitchen.jpg\n",
      "│   ├── 118_bathroom.jpg\n",
      "│   ├── 118_bedroom.jpg\n",
      "│   ├── 118_frontal.jpg\n",
      "│   ├── 118_kitchen.jpg\n",
      "│   ├── 119_bathroom.jpg\n",
      "│   ├── 119_bedroom.jpg\n",
      "│   ├── 119_frontal.jpg\n",
      "│   ├── 119_kitchen.jpg\n",
      "│   ├── 11_bathroom.jpg\n",
      "│   ├── 11_bedroom.jpg\n",
      "│   ├── 11_frontal.jpg\n",
      "│   ├── 11_kitchen.jpg\n",
      "│   ├── 120_bathroom.jpg\n",
      "│   ├── 120_bedroom.jpg\n",
      "│   ├── 120_frontal.jpg\n",
      "│   ├── 120_kitchen.jpg\n",
      "│   ├── 121_bathroom.jpg\n",
      "│   ├── 121_bedroom.jpg\n",
      "│   ├── 121_frontal.jpg\n",
      "│   ├── 121_kitchen.jpg\n",
      "│   ├── 122_bathroom.jpg\n",
      "│   ├── 122_bedroom.jpg\n",
      "│   ├── 122_frontal.jpg\n",
      "│   ├── 122_kitchen.jpg\n",
      "│   ├── 123_bathroom.jpg\n",
      "│   ├── 123_bedroom.jpg\n",
      "│   ├── 123_frontal.jpg\n",
      "│   ├── 123_kitchen.jpg\n",
      "│   ├── 124_bathroom.jpg\n",
      "│   ├── 124_bedroom.jpg\n",
      "│   ├── 124_frontal.jpg\n",
      "│   ├── 124_kitchen.jpg\n",
      "│   ├── 125_bathroom.jpg\n",
      "│   ├── 125_bedroom.jpg\n",
      "│   ├── 125_frontal.jpg\n",
      "│   ├── 125_kitchen.jpg\n",
      "│   ├── 126_bathroom.jpg\n",
      "│   ├── 126_bedroom.jpg\n",
      "│   ├── 126_frontal.jpg\n",
      "│   ├── 126_kitchen.jpg\n",
      "│   ├── 127_bathroom.jpg\n",
      "│   ├── 127_bedroom.jpg\n",
      "│   ├── 127_frontal.jpg\n",
      "│   ├── 127_kitchen.jpg\n",
      "│   ├── 128_bathroom.jpg\n",
      "│   ├── 128_bedroom.jpg\n",
      "│   ├── 128_frontal.jpg\n",
      "│   ├── 128_kitchen.jpg\n",
      "│   ├── 129_bathroom.jpg\n",
      "│   ├── 129_bedroom.jpg\n",
      "│   ├── 129_frontal.jpg\n",
      "│   ├── 129_kitchen.jpg\n",
      "│   ├── 12_bathroom.jpg\n",
      "│   ├── 12_bedroom.jpg\n",
      "│   ├── 12_frontal.jpg\n",
      "│   ├── 12_kitchen.jpg\n",
      "│   ├── 130_bathroom.jpg\n",
      "│   ├── 130_bedroom.jpg\n",
      "│   ├── 130_frontal.jpg\n",
      "│   ├── 130_kitchen.jpg\n",
      "│   ├── 131_bathroom.jpg\n",
      "│   ├── 131_bedroom.jpg\n",
      "│   ├── 131_frontal.jpg\n",
      "│   ├── 131_kitchen.jpg\n",
      "│   ├── 132_bathroom.jpg\n",
      "│   ├── 132_bedroom.jpg\n",
      "│   ├── 132_frontal.jpg\n",
      "│   ├── 132_kitchen.jpg\n",
      "│   ├── 133_bathroom.jpg\n",
      "│   ├── 133_bedroom.jpg\n",
      "│   ├── 133_frontal.jpg\n",
      "│   ├── 133_kitchen.jpg\n",
      "│   ├── 134_bathroom.jpg\n",
      "│   ├── 134_bedroom.jpg\n",
      "│   ├── 134_frontal.jpg\n",
      "│   ├── 134_kitchen.jpg\n",
      "│   ├── 135_bathroom.jpg\n",
      "│   ├── 135_bedroom.jpg\n",
      "│   ├── 135_frontal.jpg\n",
      "│   ├── 135_kitchen.jpg\n",
      "│   ├── 136_bathroom.jpg\n",
      "│   ├── 136_bedroom.jpg\n",
      "│   ├── 136_frontal.jpg\n",
      "│   ├── 136_kitchen.jpg\n",
      "│   ├── 137_bathroom.jpg\n",
      "│   ├── 137_bedroom.jpg\n",
      "│   ├── 137_frontal.jpg\n",
      "│   ├── 137_kitchen.jpg\n",
      "│   ├── 138_bathroom.jpg\n",
      "│   ├── 138_bedroom.jpg\n",
      "│   ├── 138_frontal.jpg\n",
      "│   ├── 138_kitchen.jpg\n",
      "│   ├── 139_bathroom.jpg\n",
      "│   ├── 139_bedroom.jpg\n",
      "│   ├── 139_frontal.jpg\n",
      "│   ├── 139_kitchen.jpg\n",
      "│   ├── 13_bathroom.jpg\n",
      "│   ├── 13_bedroom.jpg\n",
      "│   ├── 13_frontal.jpg\n",
      "│   ├── 13_kitchen.jpg\n",
      "│   ├── 140_bathroom.jpg\n",
      "│   ├── 140_bedroom.jpg\n",
      "│   ├── 140_frontal.jpg\n",
      "│   ├── 140_kitchen.jpg\n",
      "│   ├── 141_bathroom.jpg\n",
      "│   ├── 141_bedroom.jpg\n",
      "│   ├── 141_frontal.jpg\n",
      "│   ├── 141_kitchen.jpg\n",
      "│   ├── 142_bathroom.jpg\n",
      "│   ├── 142_bedroom.jpg\n",
      "│   ├── 142_frontal.jpg\n",
      "│   ├── 142_kitchen.jpg\n",
      "│   ├── 143_bathroom.jpg\n",
      "│   ├── 143_bedroom.jpg\n",
      "│   ├── 143_frontal.jpg\n",
      "│   ├── 143_kitchen.jpg\n",
      "│   ├── 144_bathroom.jpg\n",
      "│   ├── 144_bedroom.jpg\n",
      "│   ├── 144_frontal.jpg\n",
      "│   ├── 144_kitchen.jpg\n",
      "│   ├── 145_bathroom.jpg\n",
      "│   ├── 145_bedroom.jpg\n",
      "│   ├── 145_frontal.jpg\n",
      "│   ├── 145_kitchen.jpg\n",
      "│   ├── 146_bathroom.jpg\n",
      "│   ├── 146_bedroom.jpg\n",
      "│   ├── 146_frontal.jpg\n",
      "│   ├── 146_kitchen.jpg\n",
      "│   ├── 147_bathroom.jpg\n",
      "│   ├── 147_bedroom.jpg\n",
      "│   ├── 147_frontal.jpg\n",
      "│   ├── 147_kitchen.jpg\n",
      "│   ├── 148_bathroom.jpg\n",
      "│   ├── 148_bedroom.jpg\n",
      "│   ├── 148_frontal.jpg\n",
      "│   ├── 148_kitchen.jpg\n",
      "│   ├── 149_bathroom.jpg\n",
      "│   ├── 149_bedroom.jpg\n",
      "│   ├── 149_frontal.jpg\n",
      "│   ├── 149_kitchen.jpg\n",
      "│   ├── 14_bathroom.jpg\n",
      "│   ├── 14_bedroom.jpg\n",
      "│   ├── 14_frontal.jpg\n",
      "│   ├── 14_kitchen.jpg\n",
      "│   ├── 150_bathroom.jpg\n",
      "│   ├── 150_bedroom.jpg\n",
      "│   ├── 150_frontal.jpg\n",
      "│   ├── 150_kitchen.jpg\n",
      "│   ├── 151_bathroom.jpg\n",
      "│   ├── 151_bedroom.jpg\n",
      "│   ├── 151_frontal.jpg\n",
      "│   ├── 151_kitchen.jpg\n",
      "│   ├── 152_bathroom.jpg\n",
      "│   ├── 152_bedroom.jpg\n",
      "│   ├── 152_frontal.jpg\n",
      "│   ├── 152_kitchen.jpg\n",
      "│   ├── 153_bathroom.jpg\n",
      "│   ├── 153_bedroom.jpg\n",
      "│   ├── 153_frontal.jpg\n",
      "│   ├── 153_kitchen.jpg\n",
      "│   ├── 154_bathroom.jpg\n",
      "│   ├── 154_bedroom.jpg\n",
      "│   ├── 154_frontal.jpg\n",
      "│   ├── 154_kitchen.jpg\n",
      "│   ├── 155_bathroom.jpg\n",
      "│   ├── 155_bedroom.jpg\n",
      "│   ├── 155_frontal.jpg\n",
      "│   ├── 155_kitchen.jpg\n",
      "│   ├── 156_bathroom.jpg\n",
      "│   ├── 156_bedroom.jpg\n",
      "│   ├── 156_frontal.jpg\n",
      "│   ├── 156_kitchen.jpg\n",
      "│   ├── 157_bathroom.jpg\n",
      "│   ├── 157_bedroom.jpg\n",
      "│   ├── 157_frontal.jpg\n",
      "│   ├── 157_kitchen.jpg\n",
      "│   ├── 158_bathroom.jpg\n",
      "│   ├── 158_bedroom.jpg\n",
      "│   ├── 158_frontal.jpg\n",
      "│   ├── 158_kitchen.jpg\n",
      "│   ├── 159_bathroom.jpg\n",
      "│   ├── 159_bedroom.jpg\n",
      "│   ├── 159_frontal.jpg\n",
      "│   ├── 159_kitchen.jpg\n",
      "│   ├── 15_bathroom.jpg\n",
      "│   ├── 15_bedroom.jpg\n",
      "│   ├── 15_frontal.jpg\n",
      "│   ├── 15_kitchen.jpg\n",
      "│   ├── 160_bathroom.jpg\n",
      "│   ├── 160_bedroom.jpg\n",
      "│   ├── 160_frontal.jpg\n",
      "│   ├── 160_kitchen.jpg\n",
      "│   ├── 161_bathroom.jpg\n",
      "│   ├── 161_bedroom.jpg\n",
      "│   ├── 161_frontal.jpg\n",
      "│   ├── 161_kitchen.jpg\n",
      "│   ├── 162_bathroom.jpg\n",
      "│   ├── 162_bedroom.jpg\n",
      "│   ├── 162_frontal.jpg\n",
      "│   ├── 162_kitchen.jpg\n",
      "│   ├── 163_bathroom.jpg\n",
      "│   ├── 163_bedroom.jpg\n",
      "│   ├── 163_frontal.jpg\n",
      "│   ├── 163_kitchen.jpg\n",
      "│   ├── 164_bathroom.jpg\n",
      "│   ├── 164_bedroom.jpg\n",
      "│   ├── 164_frontal.jpg\n",
      "│   ├── 164_kitchen.jpg\n",
      "│   ├── 165_bathroom.jpg\n",
      "│   ├── 165_bedroom.jpg\n",
      "│   ├── 165_frontal.jpg\n",
      "│   ├── 165_kitchen.jpg\n",
      "│   ├── 166_bathroom.jpg\n",
      "│   ├── 166_bedroom.jpg\n",
      "│   ├── 166_frontal.jpg\n",
      "│   ├── 166_kitchen.jpg\n",
      "│   ├── 167_bathroom.jpg\n",
      "│   ├── 167_bedroom.jpg\n",
      "│   ├── 167_frontal.jpg\n",
      "│   ├── 167_kitchen.jpg\n",
      "│   ├── 168_bathroom.jpg\n",
      "│   ├── 168_bedroom.jpg\n",
      "│   ├── 168_frontal.jpg\n",
      "│   ├── 168_kitchen.jpg\n",
      "│   ├── 169_bathroom.jpg\n",
      "│   ├── 169_bedroom.jpg\n",
      "│   ├── 169_frontal.jpg\n",
      "│   ├── 169_kitchen.jpg\n",
      "│   ├── 16_bathroom.jpg\n",
      "│   ├── 16_bedroom.jpg\n",
      "│   ├── 16_frontal.jpg\n",
      "│   ├── 16_kitchen.jpg\n",
      "│   ├── 170_bathroom.jpg\n",
      "│   ├── 170_bedroom.jpg\n",
      "│   ├── 170_frontal.jpg\n",
      "│   ├── 170_kitchen.jpg\n",
      "│   ├── 171_bathroom.jpg\n",
      "│   ├── 171_bedroom.jpg\n",
      "│   ├── 171_frontal.jpg\n",
      "│   ├── 171_kitchen.jpg\n",
      "│   ├── 172_bathroom.jpg\n",
      "│   ├── 172_bedroom.jpg\n",
      "│   ├── 172_frontal.jpg\n",
      "│   ├── 172_kitchen.jpg\n",
      "│   ├── 173_bathroom.jpg\n",
      "│   ├── 173_bedroom.jpg\n",
      "│   ├── 173_frontal.jpg\n",
      "│   ├── 173_kitchen.jpg\n",
      "│   ├── 174_bathroom.jpg\n",
      "│   ├── 174_bedroom.jpg\n",
      "│   ├── 174_frontal.jpg\n",
      "│   ├── 174_kitchen.jpg\n",
      "│   ├── 175_bathroom.jpg\n",
      "│   ├── 175_bedroom.jpg\n",
      "│   ├── 175_frontal.jpg\n",
      "│   ├── 175_kitchen.jpg\n",
      "│   ├── 176_bathroom.jpg\n",
      "│   ├── 176_bedroom.jpg\n",
      "│   ├── 176_frontal.jpg\n",
      "│   ├── 176_kitchen.jpg\n",
      "│   ├── 177_bathroom.jpg\n",
      "│   ├── 177_bedroom.jpg\n",
      "│   ├── 177_frontal.jpg\n",
      "│   ├── 177_kitchen.jpg\n",
      "│   ├── 178_bathroom.jpg\n",
      "│   ├── 178_bedroom.jpg\n",
      "│   ├── 178_frontal.jpg\n",
      "│   ├── 178_kitchen.jpg\n",
      "│   ├── 179_bathroom.jpg\n",
      "│   ├── 179_bedroom.jpg\n",
      "│   ├── 179_frontal.jpg\n",
      "│   ├── 179_kitchen.jpg\n",
      "│   ├── 17_bathroom.jpg\n",
      "│   ├── 17_bedroom.jpg\n",
      "│   ├── 17_frontal.jpg\n",
      "│   ├── 17_kitchen.jpg\n",
      "│   ├── 180_bathroom.jpg\n",
      "│   ├── 180_bedroom.jpg\n",
      "│   ├── 180_frontal.jpg\n",
      "│   ├── 180_kitchen.jpg\n",
      "│   ├── 181_bathroom.jpg\n",
      "│   ├── 181_bedroom.jpg\n",
      "│   ├── 181_frontal.jpg\n",
      "│   ├── 181_kitchen.jpg\n",
      "│   ├── 182_bathroom.jpg\n",
      "│   ├── 182_bedroom.jpg\n",
      "│   ├── 182_frontal.jpg\n",
      "│   ├── 182_kitchen.jpg\n",
      "│   ├── 183_bathroom.jpg\n",
      "│   ├── 183_bedroom.jpg\n",
      "│   ├── 183_frontal.jpg\n",
      "│   ├── 183_kitchen.jpg\n",
      "│   ├── 184_bathroom.jpg\n",
      "│   ├── 184_bedroom.jpg\n",
      "│   ├── 184_frontal.jpg\n",
      "│   ├── 184_kitchen.jpg\n",
      "│   ├── 185_bathroom.jpg\n",
      "│   ├── 185_bedroom.jpg\n",
      "│   ├── 185_frontal.jpg\n",
      "│   ├── 185_kitchen.jpg\n",
      "│   ├── 186_bathroom.jpg\n",
      "│   ├── 186_bedroom.jpg\n",
      "│   ├── 186_frontal.jpg\n",
      "│   ├── 186_kitchen.jpg\n",
      "│   ├── 187_bathroom.jpg\n",
      "│   ├── 187_bedroom.jpg\n",
      "│   ├── 187_frontal.jpg\n",
      "│   ├── 187_kitchen.jpg\n",
      "│   ├── 188_bathroom.jpg\n",
      "│   ├── 188_bedroom.jpg\n",
      "│   ├── 188_frontal.jpg\n",
      "│   ├── 188_kitchen.jpg\n",
      "│   ├── 189_bathroom.jpg\n",
      "│   ├── 189_bedroom.jpg\n",
      "│   ├── 189_frontal.jpg\n",
      "│   ├── 189_kitchen.jpg\n",
      "│   ├── 18_bathroom.jpg\n",
      "│   ├── 18_bedroom.jpg\n",
      "│   ├── 18_frontal.jpg\n",
      "│   ├── 18_kitchen.jpg\n",
      "│   ├── 190_bathroom.jpg\n",
      "│   ├── 190_bedroom.jpg\n",
      "│   ├── 190_frontal.jpg\n",
      "│   ├── 190_kitchen.jpg\n",
      "│   ├── 191_bathroom.jpg\n",
      "│   ├── 191_bedroom.jpg\n",
      "│   ├── 191_frontal.jpg\n",
      "│   ├── 191_kitchen.jpg\n",
      "│   ├── 192_bathroom.jpg\n",
      "│   ├── 192_bedroom.jpg\n",
      "│   ├── 192_frontal.jpg\n",
      "│   ├── 192_kitchen.jpg\n",
      "│   ├── 193_bathroom.jpg\n",
      "│   ├── 193_bedroom.jpg\n",
      "│   ├── 193_frontal.jpg\n",
      "│   ├── 193_kitchen.jpg\n",
      "│   ├── 194_bathroom.jpg\n",
      "│   ├── 194_bedroom.jpg\n",
      "│   ├── 194_frontal.jpg\n",
      "│   ├── 194_kitchen.jpg\n",
      "│   ├── 195_bathroom.jpg\n",
      "│   ├── 195_bedroom.jpg\n",
      "│   ├── 195_frontal.jpg\n",
      "│   ├── 195_kitchen.jpg\n",
      "│   ├── 196_bathroom.jpg\n",
      "│   ├── 196_bedroom.jpg\n",
      "│   ├── 196_frontal.jpg\n",
      "│   ├── 196_kitchen.jpg\n",
      "│   ├── 197_bathroom.jpg\n",
      "│   ├── 197_bedroom.jpg\n",
      "│   ├── 197_frontal.jpg\n",
      "│   ├── 197_kitchen.jpg\n",
      "│   ├── 198_bathroom.jpg\n",
      "│   ├── 198_bedroom.jpg\n",
      "│   ├── 198_frontal.jpg\n",
      "│   ├── 198_kitchen.jpg\n",
      "│   ├── 199_bathroom.jpg\n",
      "│   ├── 199_bedroom.jpg\n",
      "│   ├── 199_frontal.jpg\n",
      "│   ├── 199_kitchen.jpg\n",
      "│   ├── 19_bathroom.jpg\n",
      "│   ├── 19_bedroom.jpg\n",
      "│   ├── 19_frontal.jpg\n",
      "│   ├── 19_kitchen.jpg\n",
      "│   ├── 1_bathroom.jpg\n",
      "│   ├── 1_bedroom.jpg\n",
      "│   ├── 1_frontal.jpg\n",
      "│   ├── 1_kitchen.jpg\n",
      "│   ├── 200_bathroom.jpg\n",
      "│   ├── 200_bedroom.jpg\n",
      "│   ├── 200_frontal.jpg\n",
      "│   ├── 200_kitchen.jpg\n",
      "│   ├── 201_bathroom.jpg\n",
      "│   ├── 201_bedroom.jpg\n",
      "│   ├── 201_frontal.jpg\n",
      "│   ├── 201_kitchen.jpg\n",
      "│   ├── 202_bathroom.jpg\n",
      "│   ├── 202_bedroom.jpg\n",
      "│   ├── 202_frontal.jpg\n",
      "│   ├── 202_kitchen.jpg\n",
      "│   ├── 203_bathroom.jpg\n",
      "│   ├── 203_bedroom.jpg\n",
      "│   ├── 203_frontal.jpg\n",
      "│   ├── 203_kitchen.jpg\n",
      "│   ├── 204_bathroom.jpg\n",
      "│   ├── 204_bedroom.jpg\n",
      "│   ├── 204_frontal.jpg\n",
      "│   ├── 204_kitchen.jpg\n",
      "│   ├── 205_bathroom.jpg\n",
      "│   ├── 205_bedroom.jpg\n",
      "│   ├── 205_frontal.jpg\n",
      "│   ├── 205_kitchen.jpg\n",
      "│   ├── 206_bathroom.jpg\n",
      "│   ├── 206_bedroom.jpg\n",
      "│   ├── 206_frontal.jpg\n",
      "│   ├── 206_kitchen.jpg\n",
      "│   ├── 207_bathroom.jpg\n",
      "│   ├── 207_bedroom.jpg\n",
      "│   ├── 207_frontal.jpg\n",
      "│   ├── 207_kitchen.jpg\n",
      "│   ├── 208_bathroom.jpg\n",
      "│   ├── 208_bedroom.jpg\n",
      "│   ├── 208_frontal.jpg\n",
      "│   ├── 208_kitchen.jpg\n",
      "│   ├── 209_bathroom.jpg\n",
      "│   ├── 209_bedroom.jpg\n",
      "│   ├── 209_frontal.jpg\n",
      "│   ├── 209_kitchen.jpg\n",
      "│   ├── 20_bathroom.jpg\n",
      "│   ├── 20_bedroom.jpg\n",
      "│   ├── 20_frontal.jpg\n",
      "│   ├── 20_kitchen.jpg\n",
      "│   ├── 210_bathroom.jpg\n",
      "│   ├── 210_bedroom.jpg\n",
      "│   ├── 210_frontal.jpg\n",
      "│   ├── 210_kitchen.jpg\n",
      "│   ├── 211_bathroom.jpg\n",
      "│   ├── 211_bedroom.jpg\n",
      "│   ├── 211_frontal.jpg\n",
      "│   ├── 211_kitchen.jpg\n",
      "│   ├── 212_bathroom.jpg\n",
      "│   ├── 212_bedroom.jpg\n",
      "│   ├── 212_frontal.jpg\n",
      "│   ├── 212_kitchen.jpg\n",
      "│   ├── 213_bathroom.jpg\n",
      "│   ├── 213_bedroom.jpg\n",
      "│   ├── 213_frontal.jpg\n",
      "│   ├── 213_kitchen.jpg\n",
      "│   ├── 214_bathroom.jpg\n",
      "│   ├── 214_bedroom.jpg\n",
      "│   ├── 214_frontal.jpg\n",
      "│   ├── 214_kitchen.jpg\n",
      "│   ├── 215_bathroom.jpg\n",
      "│   ├── 215_bedroom.jpg\n",
      "│   ├── 215_frontal.jpg\n",
      "│   ├── 215_kitchen.jpg\n",
      "│   ├── 216_bathroom.jpg\n",
      "│   ├── 216_bedroom.jpg\n",
      "│   ├── 216_frontal.jpg\n",
      "│   ├── 216_kitchen.jpg\n",
      "│   ├── 217_bathroom.jpg\n",
      "│   ├── 217_bedroom.jpg\n",
      "│   ├── 217_frontal.jpg\n",
      "│   ├── 217_kitchen.jpg\n",
      "│   ├── 218_bathroom.jpg\n",
      "│   ├── 218_bedroom.jpg\n",
      "│   ├── 218_frontal.jpg\n",
      "│   ├── 218_kitchen.jpg\n",
      "│   ├── 219_bathroom.jpg\n",
      "│   ├── 219_bedroom.jpg\n",
      "│   ├── 219_frontal.jpg\n",
      "│   ├── 219_kitchen.jpg\n",
      "│   ├── 21_bathroom.jpg\n",
      "│   ├── 21_bedroom.jpg\n",
      "│   ├── 21_frontal.jpg\n",
      "│   ├── 21_kitchen.jpg\n",
      "│   ├── 220_bathroom.jpg\n",
      "│   ├── 220_bedroom.jpg\n",
      "│   ├── 220_frontal.jpg\n",
      "│   ├── 220_kitchen.jpg\n",
      "│   ├── 221_bathroom.jpg\n",
      "│   ├── 221_bedroom.jpg\n",
      "│   ├── 221_frontal.jpg\n",
      "│   ├── 221_kitchen.jpg\n",
      "│   ├── 222_bathroom.jpg\n",
      "│   ├── 222_bedroom.jpg\n",
      "│   ├── 222_frontal.jpg\n",
      "│   ├── 222_kitchen.jpg\n",
      "│   ├── 223_bathroom.jpg\n",
      "│   ├── 223_bedroom.jpg\n",
      "│   ├── 223_frontal.jpg\n",
      "│   ├── 223_kitchen.jpg\n",
      "│   ├── 224_bathroom.jpg\n",
      "│   ├── 224_bedroom.jpg\n",
      "│   ├── 224_frontal.jpg\n",
      "│   ├── 224_kitchen.jpg\n",
      "│   ├── 225_bathroom.jpg\n",
      "│   ├── 225_bedroom.jpg\n",
      "│   ├── 225_frontal.jpg\n",
      "│   ├── 225_kitchen.jpg\n",
      "│   ├── 226_bathroom.jpg\n",
      "│   ├── 226_bedroom.jpg\n",
      "│   ├── 226_frontal.jpg\n",
      "│   ├── 226_kitchen.jpg\n",
      "│   ├── 227_bathroom.jpg\n",
      "│   ├── 227_bedroom.jpg\n",
      "│   ├── 227_frontal.jpg\n",
      "│   ├── 227_kitchen.jpg\n",
      "│   ├── 228_bathroom.jpg\n",
      "│   ├── 228_bedroom.jpg\n",
      "│   ├── 228_frontal.jpg\n",
      "│   ├── 228_kitchen.jpg\n",
      "│   ├── 229_bathroom.jpg\n",
      "│   ├── 229_bedroom.jpg\n",
      "│   ├── 229_frontal.jpg\n",
      "│   ├── 229_kitchen.jpg\n",
      "│   ├── 22_bathroom.jpg\n",
      "│   ├── 22_bedroom.jpg\n",
      "│   ├── 22_frontal.jpg\n",
      "│   ├── 22_kitchen.jpg\n",
      "│   ├── 230_bathroom.jpg\n",
      "│   ├── 230_bedroom.jpg\n",
      "│   ├── 230_frontal.jpg\n",
      "│   ├── 230_kitchen.jpg\n",
      "│   ├── 231_bathroom.jpg\n",
      "│   ├── 231_bedroom.jpg\n",
      "│   ├── 231_frontal.jpg\n",
      "│   ├── 231_kitchen.jpg\n",
      "│   ├── 232_bathroom.jpg\n",
      "│   ├── 232_bedroom.jpg\n",
      "│   ├── 232_frontal.jpg\n",
      "│   ├── 232_kitchen.jpg\n",
      "│   ├── 233_bathroom.jpg\n",
      "│   ├── 233_bedroom.jpg\n",
      "│   ├── 233_frontal.jpg\n",
      "│   ├── 233_kitchen.jpg\n",
      "│   ├── 234_bathroom.jpg\n",
      "│   ├── 234_bedroom.jpg\n",
      "│   ├── 234_frontal.jpg\n",
      "│   ├── 234_kitchen.jpg\n",
      "│   ├── 235_bathroom.jpg\n",
      "│   ├── 235_bedroom.jpg\n",
      "│   ├── 235_frontal.jpg\n",
      "│   ├── 235_kitchen.jpg\n",
      "│   ├── 236_bathroom.jpg\n",
      "│   ├── 236_bedroom.jpg\n",
      "│   ├── 236_frontal.jpg\n",
      "│   ├── 236_kitchen.jpg\n",
      "│   ├── 237_bathroom.jpg\n",
      "│   ├── 237_bedroom.jpg\n",
      "│   ├── 237_frontal.jpg\n",
      "│   ├── 237_kitchen.jpg\n",
      "│   ├── 238_bathroom.jpg\n",
      "│   ├── 238_bedroom.jpg\n",
      "│   ├── 238_frontal.jpg\n",
      "│   ├── 238_kitchen.jpg\n",
      "│   ├── 239_bathroom.jpg\n",
      "│   ├── 239_bedroom.jpg\n",
      "│   ├── 239_frontal.jpg\n",
      "│   ├── 239_kitchen.jpg\n",
      "│   ├── 23_bathroom.jpg\n",
      "│   ├── 23_bedroom.jpg\n",
      "│   ├── 23_frontal.jpg\n",
      "│   ├── 23_kitchen.jpg\n",
      "│   ├── 240_bathroom.jpg\n",
      "│   ├── 240_bedroom.jpg\n",
      "│   ├── 240_frontal.jpg\n",
      "│   ├── 240_kitchen.jpg\n",
      "│   ├── 241_bathroom.jpg\n",
      "│   ├── 241_bedroom.jpg\n",
      "│   ├── 241_frontal.jpg\n",
      "│   ├── 241_kitchen.jpg\n",
      "│   ├── 242_bathroom.jpg\n",
      "│   ├── 242_bedroom.jpg\n",
      "│   ├── 242_frontal.jpg\n",
      "│   ├── 242_kitchen.jpg\n",
      "│   ├── 243_bathroom.jpg\n",
      "│   ├── 243_bedroom.jpg\n",
      "│   ├── 243_frontal.jpg\n",
      "│   ├── 243_kitchen.jpg\n",
      "│   ├── 244_bathroom.jpg\n",
      "│   ├── 244_bedroom.jpg\n",
      "│   ├── 244_frontal.jpg\n",
      "│   ├── 244_kitchen.jpg\n",
      "│   ├── 245_bathroom.jpg\n",
      "│   ├── 245_bedroom.jpg\n",
      "│   ├── 245_frontal.jpg\n",
      "│   ├── 245_kitchen.jpg\n",
      "│   ├── 246_bathroom.jpg\n",
      "│   ├── 246_bedroom.jpg\n",
      "│   ├── 246_frontal.jpg\n",
      "│   ├── 246_kitchen.jpg\n",
      "│   ├── 247_bathroom.jpg\n",
      "│   ├── 247_bedroom.jpg\n",
      "│   ├── 247_frontal.jpg\n",
      "│   ├── 247_kitchen.jpg\n",
      "│   ├── 248_bathroom.jpg\n",
      "│   ├── 248_bedroom.jpg\n",
      "│   ├── 248_frontal.jpg\n",
      "│   ├── 248_kitchen.jpg\n",
      "│   ├── 249_bathroom.jpg\n",
      "│   ├── 249_bedroom.jpg\n",
      "│   ├── 249_frontal.jpg\n",
      "│   ├── 249_kitchen.jpg\n",
      "│   ├── 24_bathroom.jpg\n",
      "│   ├── 24_bedroom.jpg\n",
      "│   ├── 24_frontal.jpg\n",
      "│   ├── 24_kitchen.jpg\n",
      "│   ├── 250_bathroom.jpg\n",
      "│   ├── 250_bedroom.jpg\n",
      "│   ├── 250_frontal.jpg\n",
      "│   ├── 250_kitchen.jpg\n",
      "│   ├── 251_bathroom.jpg\n",
      "│   ├── 251_bedroom.jpg\n",
      "│   ├── 251_frontal.jpg\n",
      "│   ├── 251_kitchen.jpg\n",
      "│   ├── 252_bathroom.jpg\n",
      "│   ├── 252_bedroom.jpg\n",
      "│   ├── 252_frontal.jpg\n",
      "│   ├── 252_kitchen.jpg\n",
      "│   ├── 253_bathroom.jpg\n",
      "│   ├── 253_bedroom.jpg\n",
      "│   ├── 253_frontal.jpg\n",
      "│   ├── 253_kitchen.jpg\n",
      "│   ├── 254_bathroom.jpg\n",
      "│   ├── 254_bedroom.jpg\n",
      "│   ├── 254_frontal.jpg\n",
      "│   ├── 254_kitchen.jpg\n",
      "│   ├── 255_bathroom.jpg\n",
      "│   ├── 255_bedroom.jpg\n",
      "│   ├── 255_frontal.jpg\n",
      "│   ├── 255_kitchen.jpg\n",
      "│   ├── 256_bathroom.jpg\n",
      "│   ├── 256_bedroom.jpg\n",
      "│   ├── 256_frontal.jpg\n",
      "│   ├── 256_kitchen.jpg\n",
      "│   ├── 257_bathroom.jpg\n",
      "│   ├── 257_bedroom.jpg\n",
      "│   ├── 257_frontal.jpg\n",
      "│   ├── 257_kitchen.jpg\n",
      "│   ├── 258_bathroom.jpg\n",
      "│   ├── 258_bedroom.jpg\n",
      "│   ├── 258_frontal.jpg\n",
      "│   ├── 258_kitchen.jpg\n",
      "│   ├── 259_bathroom.jpg\n",
      "│   ├── 259_bedroom.jpg\n",
      "│   ├── 259_frontal.jpg\n",
      "│   ├── 259_kitchen.jpg\n",
      "│   ├── 25_bathroom.jpg\n",
      "│   ├── 25_bedroom.jpg\n",
      "│   ├── 25_frontal.jpg\n",
      "│   ├── 25_kitchen.jpg\n",
      "│   ├── 260_bathroom.jpg\n",
      "│   ├── 260_bedroom.jpg\n",
      "│   ├── 260_frontal.jpg\n",
      "│   ├── 260_kitchen.jpg\n",
      "│   ├── 261_bathroom.jpg\n",
      "│   ├── 261_bedroom.jpg\n",
      "│   ├── 261_frontal.jpg\n",
      "│   ├── 261_kitchen.jpg\n",
      "│   ├── 262_bathroom.jpg\n",
      "│   ├── 262_bedroom.jpg\n",
      "│   ├── 262_frontal.jpg\n",
      "│   ├── 262_kitchen.jpg\n",
      "│   ├── 263_bathroom.jpg\n",
      "│   ├── 263_bedroom.jpg\n",
      "│   ├── 263_frontal.jpg\n",
      "│   ├── 263_kitchen.jpg\n",
      "│   ├── 264_bathroom.jpg\n",
      "│   ├── 264_bedroom.jpg\n",
      "│   ├── 264_frontal.jpg\n",
      "│   ├── 264_kitchen.jpg\n",
      "│   ├── 265_bathroom.jpg\n",
      "│   ├── 265_bedroom.jpg\n",
      "│   ├── 265_frontal.jpg\n",
      "│   ├── 265_kitchen.jpg\n",
      "│   ├── 266_bathroom.jpg\n",
      "│   ├── 266_bedroom.jpg\n",
      "│   ├── 266_frontal.jpg\n",
      "│   ├── 266_kitchen.jpg\n",
      "│   ├── 267_bathroom.jpg\n",
      "│   ├── 267_bedroom.jpg\n",
      "│   ├── 267_frontal.jpg\n",
      "│   ├── 267_kitchen.jpg\n",
      "│   ├── 268_bathroom.jpg\n",
      "│   ├── 268_bedroom.jpg\n",
      "│   ├── 268_frontal.jpg\n",
      "│   ├── 268_kitchen.jpg\n",
      "│   ├── 269_bathroom.jpg\n",
      "│   ├── 269_bedroom.jpg\n",
      "│   ├── 269_frontal.jpg\n",
      "│   ├── 269_kitchen.jpg\n",
      "│   ├── 26_bathroom.jpg\n",
      "│   ├── 26_bedroom.jpg\n",
      "│   ├── 26_frontal.jpg\n",
      "│   ├── 26_kitchen.jpg\n",
      "│   ├── 270_bathroom.jpg\n",
      "│   ├── 270_bedroom.jpg\n",
      "│   ├── 270_frontal.jpg\n",
      "│   ├── 270_kitchen.jpg\n",
      "│   ├── 271_bathroom.jpg\n",
      "│   ├── 271_bedroom.jpg\n",
      "│   ├── 271_frontal.jpg\n",
      "│   ├── 271_kitchen.jpg\n",
      "│   ├── 272_bathroom.jpg\n",
      "│   ├── 272_bedroom.jpg\n",
      "│   ├── 272_frontal.jpg\n",
      "│   ├── 272_kitchen.jpg\n",
      "│   ├── 273_bathroom.jpg\n",
      "│   ├── 273_bedroom.jpg\n",
      "│   ├── 273_frontal.jpg\n",
      "│   ├── 273_kitchen.jpg\n",
      "│   ├── 274_bathroom.jpg\n",
      "│   ├── 274_bedroom.jpg\n",
      "│   ├── 274_frontal.jpg\n",
      "│   ├── 274_kitchen.jpg\n",
      "│   ├── 275_bathroom.jpg\n",
      "│   ├── 275_bedroom.jpg\n",
      "│   ├── 275_frontal.jpg\n",
      "│   ├── 275_kitchen.jpg\n",
      "│   ├── 276_bathroom.jpg\n",
      "│   ├── 276_bedroom.jpg\n",
      "│   ├── 276_frontal.jpg\n",
      "│   ├── 276_kitchen.jpg\n",
      "│   ├── 277_bathroom.jpg\n",
      "│   ├── 277_bedroom.jpg\n",
      "│   ├── 277_frontal.jpg\n",
      "│   ├── 277_kitchen.jpg\n",
      "│   ├── 278_bathroom.jpg\n",
      "│   ├── 278_bedroom.jpg\n",
      "│   ├── 278_frontal.jpg\n",
      "│   ├── 278_kitchen.jpg\n",
      "│   ├── 279_bathroom.jpg\n",
      "│   ├── 279_bedroom.jpg\n",
      "│   ├── 279_frontal.jpg\n",
      "│   ├── 279_kitchen.jpg\n",
      "│   ├── 27_bathroom.jpg\n",
      "│   ├── 27_bedroom.jpg\n",
      "│   ├── 27_frontal.jpg\n",
      "│   ├── 27_kitchen.jpg\n",
      "│   ├── 280_bathroom.jpg\n",
      "│   ├── 280_bedroom.jpg\n",
      "│   ├── 280_frontal.jpg\n",
      "│   ├── 280_kitchen.jpg\n",
      "│   ├── 281_bathroom.jpg\n",
      "│   ├── 281_bedroom.jpg\n",
      "│   ├── 281_frontal.jpg\n",
      "│   ├── 281_kitchen.jpg\n",
      "│   ├── 282_bathroom.jpg\n",
      "│   ├── 282_bedroom.jpg\n",
      "│   ├── 282_frontal.jpg\n",
      "│   ├── 282_kitchen.jpg\n",
      "│   ├── 283_bathroom.jpg\n",
      "│   ├── 283_bedroom.jpg\n",
      "│   ├── 283_frontal.jpg\n",
      "│   ├── 283_kitchen.jpg\n",
      "│   ├── 284_bathroom.jpg\n",
      "│   ├── 284_bedroom.jpg\n",
      "│   ├── 284_frontal.jpg\n",
      "│   ├── 284_kitchen.jpg\n",
      "│   ├── 285_bathroom.jpg\n",
      "│   ├── 285_bedroom.jpg\n",
      "│   ├── 285_frontal.jpg\n",
      "│   ├── 285_kitchen.jpg\n",
      "│   ├── 286_bathroom.jpg\n",
      "│   ├── 286_bedroom.jpg\n",
      "│   ├── 286_frontal.jpg\n",
      "│   ├── 286_kitchen.jpg\n",
      "│   ├── 287_bathroom.jpg\n",
      "│   ├── 287_bedroom.jpg\n",
      "│   ├── 287_frontal.jpg\n",
      "│   ├── 287_kitchen.jpg\n",
      "│   ├── 288_bathroom.jpg\n",
      "│   ├── 288_bedroom.jpg\n",
      "│   ├── 288_frontal.jpg\n",
      "│   ├── 288_kitchen.jpg\n",
      "│   ├── 289_bathroom.jpg\n",
      "│   ├── 289_bedroom.jpg\n",
      "│   ├── 289_frontal.jpg\n",
      "│   ├── 289_kitchen.jpg\n",
      "│   ├── 28_bathroom.jpg\n",
      "│   ├── 28_bedroom.jpg\n",
      "│   ├── 28_frontal.jpg\n",
      "│   ├── 28_kitchen.jpg\n",
      "│   ├── 290_bathroom.jpg\n",
      "│   ├── 290_bedroom.jpg\n",
      "│   ├── 290_frontal.jpg\n",
      "│   ├── 290_kitchen.jpg\n",
      "│   ├── 291_bathroom.jpg\n",
      "│   ├── 291_bedroom.jpg\n",
      "│   ├── 291_frontal.jpg\n",
      "│   ├── 291_kitchen.jpg\n",
      "│   ├── 292_bathroom.jpg\n",
      "│   ├── 292_bedroom.jpg\n",
      "│   ├── 292_frontal.jpg\n",
      "│   ├── 292_kitchen.jpg\n",
      "│   ├── 293_bathroom.jpg\n",
      "│   ├── 293_bedroom.jpg\n",
      "│   ├── 293_frontal.jpg\n",
      "│   ├── 293_kitchen.jpg\n",
      "│   ├── 294_bathroom.jpg\n",
      "│   ├── 294_bedroom.jpg\n",
      "│   ├── 294_frontal.jpg\n",
      "│   ├── 294_kitchen.jpg\n",
      "│   ├── 295_bathroom.jpg\n",
      "│   ├── 295_bedroom.jpg\n",
      "│   ├── 295_frontal.jpg\n",
      "│   ├── 295_kitchen.jpg\n",
      "│   ├── 296_bathroom.jpg\n",
      "│   ├── 296_bedroom.jpg\n",
      "│   ├── 296_frontal.jpg\n",
      "│   ├── 296_kitchen.jpg\n",
      "│   ├── 297_bathroom.jpg\n",
      "│   ├── 297_bedroom.jpg\n",
      "│   ├── 297_frontal.jpg\n",
      "│   ├── 297_kitchen.jpg\n",
      "│   ├── 298_bathroom.jpg\n",
      "│   ├── 298_bedroom.jpg\n",
      "│   ├── 298_frontal.jpg\n",
      "│   ├── 298_kitchen.jpg\n",
      "│   ├── 299_bathroom.jpg\n",
      "│   ├── 299_bedroom.jpg\n",
      "│   ├── 299_frontal.jpg\n",
      "│   ├── 299_kitchen.jpg\n",
      "│   ├── 29_bathroom.jpg\n",
      "│   ├── 29_bedroom.jpg\n",
      "│   ├── 29_frontal.jpg\n",
      "│   ├── 29_kitchen.jpg\n",
      "│   ├── 2_bathroom.jpg\n",
      "│   ├── 2_bedroom.jpg\n",
      "│   ├── 2_frontal.jpg\n",
      "│   ├── 2_kitchen.jpg\n",
      "│   ├── 300_bathroom.jpg\n",
      "│   ├── 300_bedroom.jpg\n",
      "│   ├── 300_frontal.jpg\n",
      "│   ├── 300_kitchen.jpg\n",
      "│   ├── 301_bathroom.jpg\n",
      "│   ├── 301_bedroom.jpg\n",
      "│   ├── 301_frontal.jpg\n",
      "│   ├── 301_kitchen.jpg\n",
      "│   ├── 302_bathroom.jpg\n",
      "│   ├── 302_bedroom.jpg\n",
      "│   ├── 302_frontal.jpg\n",
      "│   ├── 302_kitchen.jpg\n",
      "│   ├── 303_bathroom.jpg\n",
      "│   ├── 303_bedroom.jpg\n",
      "│   ├── 303_frontal.jpg\n",
      "│   ├── 303_kitchen.jpg\n",
      "│   ├── 304_bathroom.jpg\n",
      "│   ├── 304_bedroom.jpg\n",
      "│   ├── 304_frontal.jpg\n",
      "│   ├── 304_kitchen.jpg\n",
      "│   ├── 305_bathroom.jpg\n",
      "│   ├── 305_bedroom.jpg\n",
      "│   ├── 305_frontal.jpg\n",
      "│   ├── 305_kitchen.jpg\n",
      "│   ├── 306_bathroom.jpg\n",
      "│   ├── 306_bedroom.jpg\n",
      "│   ├── 306_frontal.jpg\n",
      "│   ├── 306_kitchen.jpg\n",
      "│   ├── 307_bathroom.jpg\n",
      "│   ├── 307_bedroom.jpg\n",
      "│   ├── 307_frontal.jpg\n",
      "│   ├── 307_kitchen.jpg\n",
      "│   ├── 308_bathroom.jpg\n",
      "│   ├── 308_bedroom.jpg\n",
      "│   ├── 308_frontal.jpg\n",
      "│   ├── 308_kitchen.jpg\n",
      "│   ├── 309_bathroom.jpg\n",
      "│   ├── 309_bedroom.jpg\n",
      "│   ├── 309_frontal.jpg\n",
      "│   ├── 309_kitchen.jpg\n",
      "│   ├── 30_bathroom.jpg\n",
      "│   ├── 30_bedroom.jpg\n",
      "│   ├── 30_frontal.jpg\n",
      "│   ├── 30_kitchen.jpg\n",
      "│   ├── 310_bathroom.jpg\n",
      "│   ├── 310_bedroom.jpg\n",
      "│   ├── 310_frontal.jpg\n",
      "│   ├── 310_kitchen.jpg\n",
      "│   ├── 311_bathroom.jpg\n",
      "│   ├── 311_bedroom.jpg\n",
      "│   ├── 311_frontal.jpg\n",
      "│   ├── 311_kitchen.jpg\n",
      "│   ├── 312_bathroom.jpg\n",
      "│   ├── 312_bedroom.jpg\n",
      "│   ├── 312_frontal.jpg\n",
      "│   ├── 312_kitchen.jpg\n",
      "│   ├── 313_bathroom.jpg\n",
      "│   ├── 313_bedroom.jpg\n",
      "│   ├── 313_frontal.jpg\n",
      "│   ├── 313_kitchen.jpg\n",
      "│   ├── 314_bathroom.jpg\n",
      "│   ├── 314_bedroom.jpg\n",
      "│   ├── 314_frontal.jpg\n",
      "│   ├── 314_kitchen.jpg\n",
      "│   ├── 315_bathroom.jpg\n",
      "│   ├── 315_bedroom.jpg\n",
      "│   ├── 315_frontal.jpg\n",
      "│   ├── 315_kitchen.jpg\n",
      "│   ├── 316_bathroom.jpg\n",
      "│   ├── 316_bedroom.jpg\n",
      "│   ├── 316_frontal.jpg\n",
      "│   ├── 316_kitchen.jpg\n",
      "│   ├── 317_bathroom.jpg\n",
      "│   ├── 317_bedroom.jpg\n",
      "│   ├── 317_frontal.jpg\n",
      "│   ├── 317_kitchen.jpg\n",
      "│   ├── 318_bathroom.jpg\n",
      "│   ├── 318_bedroom.jpg\n",
      "│   ├── 318_frontal.jpg\n",
      "│   ├── 318_kitchen.jpg\n",
      "│   ├── 319_bathroom.jpg\n",
      "│   ├── 319_bedroom.jpg\n",
      "│   ├── 319_frontal.jpg\n",
      "│   ├── 319_kitchen.jpg\n",
      "│   ├── 31_bathroom.jpg\n",
      "│   ├── 31_bedroom.jpg\n",
      "│   ├── 31_frontal.jpg\n",
      "│   ├── 31_kitchen.jpg\n",
      "│   ├── 320_bathroom.jpg\n",
      "│   ├── 320_bedroom.jpg\n",
      "│   ├── 320_frontal.jpg\n",
      "│   ├── 320_kitchen.jpg\n",
      "│   ├── 321_bathroom.jpg\n",
      "│   ├── 321_bedroom.jpg\n",
      "│   ├── 321_frontal.jpg\n",
      "│   ├── 321_kitchen.jpg\n",
      "│   ├── 322_bathroom.jpg\n",
      "│   ├── 322_bedroom.jpg\n",
      "│   ├── 322_frontal.jpg\n",
      "│   ├── 322_kitchen.jpg\n",
      "│   ├── 323_bathroom.jpg\n",
      "│   ├── 323_bedroom.jpg\n",
      "│   ├── 323_frontal.jpg\n",
      "│   ├── 323_kitchen.jpg\n",
      "│   ├── 324_bathroom.jpg\n",
      "│   ├── 324_bedroom.jpg\n",
      "│   ├── 324_frontal.jpg\n",
      "│   ├── 324_kitchen.jpg\n",
      "│   ├── 325_bathroom.jpg\n",
      "│   ├── 325_bedroom.jpg\n",
      "│   ├── 325_frontal.jpg\n",
      "│   ├── 325_kitchen.jpg\n",
      "├── README.md\n",
      "\n",
      "Note: The full structure may contain more files and directories.\n"
     ]
    }
   ],
   "source": [
    "import os\n",
    "import requests\n",
    "from tqdm import tqdm\n",
    "\n",
    "def get_github_repo_structure(repo_owner, repo_name):\n",
    "    base_url = f\"https://api.github.com/repos/{repo_owner}/{repo_name}/contents\"\n",
    "    \n",
    "    def fetch_contents(path=\"\"):\n",
    "        url = f\"{base_url}/{path}\"\n",
    "        response = requests.get(url)\n",
    "        if response.status_code != 200:\n",
    "            print(f\"Failed to fetch repository contents. Status code: {response.status_code}\")\n",
    "            return {}\n",
    "        \n",
    "        contents = response.json()\n",
    "        structure = {}\n",
    "        \n",
    "        for item in contents:\n",
    "            if item['type'] == 'dir':\n",
    "                structure[item['name']] = fetch_contents(item['path'])\n",
    "            else:\n",
    "                structure[item['name']] = 'file'\n",
    "        \n",
    "        return structure\n",
    "\n",
    "    return fetch_contents()\n",
    "\n",
    "def print_tree(tree, indent='', max_depth=3, current_depth=0):\n",
    "    if current_depth >= max_depth:\n",
    "        print(f\"{indent}├── ...\")\n",
    "        return\n",
    "\n",
    "    for key, value in tree.items():\n",
    "        if value == 'file':\n",
    "            print(f\"{indent}├── {key}\")\n",
    "        else:\n",
    "            print(f\"{indent}├── {key}/\")\n",
    "            print_tree(value, indent + '│   ', max_depth, current_depth + 1)\n",
    "\n",
    "repo_owner = \"emanhamed\"\n",
    "repo_name = \"Houses-dataset\"\n",
    "\n",
    "print(\"Fetching repository structure...\")\n",
    "repo_structure = get_github_repo_structure(repo_owner, repo_name)\n",
    "\n",
    "print(\"\\nRepository structure (limited to 3 levels):\")\n",
    "print_tree(repo_structure, max_depth=4)\n",
    "\n",
    "print(\"\\nNote: The full structure may contain more files and directories.\")\n"
   ]
  },
  {
   "cell_type": "code",
   "execution_count": null,
   "metadata": {},
   "outputs": [],
   "source": []
  }
 ],
 "metadata": {
  "kernelspec": {
   "display_name": "sd-lora",
   "language": "python",
   "name": "python3"
  },
  "language_info": {
   "codemirror_mode": {
    "name": "ipython",
    "version": 3
   },
   "file_extension": ".py",
   "mimetype": "text/x-python",
   "name": "python",
   "nbconvert_exporter": "python",
   "pygments_lexer": "ipython3",
   "version": "3.11.9"
  }
 },
 "nbformat": 4,
 "nbformat_minor": 2
}
